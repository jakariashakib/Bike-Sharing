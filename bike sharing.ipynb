{
 "cells": [
  {
   "cell_type": "markdown",
   "id": "7cfc9107",
   "metadata": {},
   "source": [
    "# Libraries"
   ]
  },
  {
   "cell_type": "code",
   "execution_count": 476,
   "id": "0d6c5091",
   "metadata": {
    "ExecuteTime": {
     "end_time": "2022-03-06T06:49:47.013842Z",
     "start_time": "2022-03-06T06:49:46.993859Z"
    }
   },
   "outputs": [],
   "source": [
    "import numpy as np\n",
    "import matplotlib.pyplot as plt\n",
    "import seaborn as sns\n",
    "import pandas as pd\n",
    "from sklearn.model_selection import train_test_split\n",
    "from sklearn.preprocessing import MinMaxScaler\n",
    "from sklearn.model_selection import GridSearchCV\n",
    "from sklearn.metrics import accuracy_score\n",
    "from sklearn.ensemble import GradientBoostingRegressor\n",
    "\n",
    "import warnings\n",
    "warnings.filterwarnings(\"ignore\")"
   ]
  },
  {
   "cell_type": "markdown",
   "id": "be0ccbe9",
   "metadata": {},
   "source": [
    "# Dataset"
   ]
  },
  {
   "cell_type": "code",
   "execution_count": 477,
   "id": "5a4118ee",
   "metadata": {
    "ExecuteTime": {
     "end_time": "2022-03-06T06:49:47.138833Z",
     "start_time": "2022-03-06T06:49:47.013842Z"
    }
   },
   "outputs": [],
   "source": [
    "df = pd.read_csv('day.csv', index_col=0)"
   ]
  },
  {
   "cell_type": "code",
   "execution_count": 478,
   "id": "88bff57a",
   "metadata": {
    "ExecuteTime": {
     "end_time": "2022-03-06T06:49:47.248791Z",
     "start_time": "2022-03-06T06:49:47.138833Z"
    }
   },
   "outputs": [],
   "source": [
    "df = df.rename(columns={'weathersit':'weather',\n",
    "                       'yr':'year',\n",
    "                       'mnth':'month',\n",
    "                       'hr':'hour',\n",
    "                       'hum':'humidity',\n",
    "                       'cnt':'count'})"
   ]
  },
  {
   "cell_type": "code",
   "execution_count": 479,
   "id": "414440fd",
   "metadata": {
    "ExecuteTime": {
     "end_time": "2022-03-06T06:49:47.410209Z",
     "start_time": "2022-03-06T06:49:47.248791Z"
    }
   },
   "outputs": [
    {
     "data": {
      "text/html": [
       "<div>\n",
       "<style scoped>\n",
       "    .dataframe tbody tr th:only-of-type {\n",
       "        vertical-align: middle;\n",
       "    }\n",
       "\n",
       "    .dataframe tbody tr th {\n",
       "        vertical-align: top;\n",
       "    }\n",
       "\n",
       "    .dataframe thead th {\n",
       "        text-align: right;\n",
       "    }\n",
       "</style>\n",
       "<table border=\"1\" class=\"dataframe\">\n",
       "  <thead>\n",
       "    <tr style=\"text-align: right;\">\n",
       "      <th></th>\n",
       "      <th>dteday</th>\n",
       "      <th>season</th>\n",
       "      <th>year</th>\n",
       "      <th>month</th>\n",
       "      <th>holiday</th>\n",
       "      <th>weekday</th>\n",
       "      <th>workingday</th>\n",
       "      <th>weather</th>\n",
       "      <th>temp</th>\n",
       "      <th>atemp</th>\n",
       "      <th>humidity</th>\n",
       "      <th>windspeed</th>\n",
       "      <th>casual</th>\n",
       "      <th>registered</th>\n",
       "      <th>count</th>\n",
       "    </tr>\n",
       "    <tr>\n",
       "      <th>instant</th>\n",
       "      <th></th>\n",
       "      <th></th>\n",
       "      <th></th>\n",
       "      <th></th>\n",
       "      <th></th>\n",
       "      <th></th>\n",
       "      <th></th>\n",
       "      <th></th>\n",
       "      <th></th>\n",
       "      <th></th>\n",
       "      <th></th>\n",
       "      <th></th>\n",
       "      <th></th>\n",
       "      <th></th>\n",
       "      <th></th>\n",
       "    </tr>\n",
       "  </thead>\n",
       "  <tbody>\n",
       "    <tr>\n",
       "      <th>1</th>\n",
       "      <td>01-01-2018</td>\n",
       "      <td>1</td>\n",
       "      <td>0</td>\n",
       "      <td>1</td>\n",
       "      <td>0</td>\n",
       "      <td>6</td>\n",
       "      <td>0</td>\n",
       "      <td>2</td>\n",
       "      <td>14.110847</td>\n",
       "      <td>18.18125</td>\n",
       "      <td>80.5833</td>\n",
       "      <td>10.749882</td>\n",
       "      <td>331</td>\n",
       "      <td>654</td>\n",
       "      <td>985</td>\n",
       "    </tr>\n",
       "    <tr>\n",
       "      <th>2</th>\n",
       "      <td>02-01-2018</td>\n",
       "      <td>1</td>\n",
       "      <td>0</td>\n",
       "      <td>1</td>\n",
       "      <td>0</td>\n",
       "      <td>0</td>\n",
       "      <td>0</td>\n",
       "      <td>2</td>\n",
       "      <td>14.902598</td>\n",
       "      <td>17.68695</td>\n",
       "      <td>69.6087</td>\n",
       "      <td>16.652113</td>\n",
       "      <td>131</td>\n",
       "      <td>670</td>\n",
       "      <td>801</td>\n",
       "    </tr>\n",
       "    <tr>\n",
       "      <th>3</th>\n",
       "      <td>03-01-2018</td>\n",
       "      <td>1</td>\n",
       "      <td>0</td>\n",
       "      <td>1</td>\n",
       "      <td>0</td>\n",
       "      <td>1</td>\n",
       "      <td>1</td>\n",
       "      <td>1</td>\n",
       "      <td>8.050924</td>\n",
       "      <td>9.47025</td>\n",
       "      <td>43.7273</td>\n",
       "      <td>16.636703</td>\n",
       "      <td>120</td>\n",
       "      <td>1229</td>\n",
       "      <td>1349</td>\n",
       "    </tr>\n",
       "    <tr>\n",
       "      <th>4</th>\n",
       "      <td>04-01-2018</td>\n",
       "      <td>1</td>\n",
       "      <td>0</td>\n",
       "      <td>1</td>\n",
       "      <td>0</td>\n",
       "      <td>2</td>\n",
       "      <td>1</td>\n",
       "      <td>1</td>\n",
       "      <td>8.200000</td>\n",
       "      <td>10.60610</td>\n",
       "      <td>59.0435</td>\n",
       "      <td>10.739832</td>\n",
       "      <td>108</td>\n",
       "      <td>1454</td>\n",
       "      <td>1562</td>\n",
       "    </tr>\n",
       "    <tr>\n",
       "      <th>5</th>\n",
       "      <td>05-01-2018</td>\n",
       "      <td>1</td>\n",
       "      <td>0</td>\n",
       "      <td>1</td>\n",
       "      <td>0</td>\n",
       "      <td>3</td>\n",
       "      <td>1</td>\n",
       "      <td>1</td>\n",
       "      <td>9.305237</td>\n",
       "      <td>11.46350</td>\n",
       "      <td>43.6957</td>\n",
       "      <td>12.522300</td>\n",
       "      <td>82</td>\n",
       "      <td>1518</td>\n",
       "      <td>1600</td>\n",
       "    </tr>\n",
       "    <tr>\n",
       "      <th>...</th>\n",
       "      <td>...</td>\n",
       "      <td>...</td>\n",
       "      <td>...</td>\n",
       "      <td>...</td>\n",
       "      <td>...</td>\n",
       "      <td>...</td>\n",
       "      <td>...</td>\n",
       "      <td>...</td>\n",
       "      <td>...</td>\n",
       "      <td>...</td>\n",
       "      <td>...</td>\n",
       "      <td>...</td>\n",
       "      <td>...</td>\n",
       "      <td>...</td>\n",
       "      <td>...</td>\n",
       "    </tr>\n",
       "    <tr>\n",
       "      <th>726</th>\n",
       "      <td>27-12-2019</td>\n",
       "      <td>1</td>\n",
       "      <td>1</td>\n",
       "      <td>12</td>\n",
       "      <td>0</td>\n",
       "      <td>4</td>\n",
       "      <td>1</td>\n",
       "      <td>2</td>\n",
       "      <td>10.420847</td>\n",
       "      <td>11.33210</td>\n",
       "      <td>65.2917</td>\n",
       "      <td>23.458911</td>\n",
       "      <td>247</td>\n",
       "      <td>1867</td>\n",
       "      <td>2114</td>\n",
       "    </tr>\n",
       "    <tr>\n",
       "      <th>727</th>\n",
       "      <td>28-12-2019</td>\n",
       "      <td>1</td>\n",
       "      <td>1</td>\n",
       "      <td>12</td>\n",
       "      <td>0</td>\n",
       "      <td>5</td>\n",
       "      <td>1</td>\n",
       "      <td>2</td>\n",
       "      <td>10.386653</td>\n",
       "      <td>12.75230</td>\n",
       "      <td>59.0000</td>\n",
       "      <td>10.416557</td>\n",
       "      <td>644</td>\n",
       "      <td>2451</td>\n",
       "      <td>3095</td>\n",
       "    </tr>\n",
       "    <tr>\n",
       "      <th>728</th>\n",
       "      <td>29-12-2019</td>\n",
       "      <td>1</td>\n",
       "      <td>1</td>\n",
       "      <td>12</td>\n",
       "      <td>0</td>\n",
       "      <td>6</td>\n",
       "      <td>0</td>\n",
       "      <td>2</td>\n",
       "      <td>10.386653</td>\n",
       "      <td>12.12000</td>\n",
       "      <td>75.2917</td>\n",
       "      <td>8.333661</td>\n",
       "      <td>159</td>\n",
       "      <td>1182</td>\n",
       "      <td>1341</td>\n",
       "    </tr>\n",
       "    <tr>\n",
       "      <th>729</th>\n",
       "      <td>30-12-2019</td>\n",
       "      <td>1</td>\n",
       "      <td>1</td>\n",
       "      <td>12</td>\n",
       "      <td>0</td>\n",
       "      <td>0</td>\n",
       "      <td>0</td>\n",
       "      <td>1</td>\n",
       "      <td>10.489153</td>\n",
       "      <td>11.58500</td>\n",
       "      <td>48.3333</td>\n",
       "      <td>23.500518</td>\n",
       "      <td>364</td>\n",
       "      <td>1432</td>\n",
       "      <td>1796</td>\n",
       "    </tr>\n",
       "    <tr>\n",
       "      <th>730</th>\n",
       "      <td>31-12-2019</td>\n",
       "      <td>1</td>\n",
       "      <td>1</td>\n",
       "      <td>12</td>\n",
       "      <td>0</td>\n",
       "      <td>1</td>\n",
       "      <td>1</td>\n",
       "      <td>2</td>\n",
       "      <td>8.849153</td>\n",
       "      <td>11.17435</td>\n",
       "      <td>57.7500</td>\n",
       "      <td>10.374682</td>\n",
       "      <td>439</td>\n",
       "      <td>2290</td>\n",
       "      <td>2729</td>\n",
       "    </tr>\n",
       "  </tbody>\n",
       "</table>\n",
       "<p>730 rows × 15 columns</p>\n",
       "</div>"
      ],
      "text/plain": [
       "             dteday  season  year  month  holiday  weekday  workingday  \\\n",
       "instant                                                                  \n",
       "1        01-01-2018       1     0      1        0        6           0   \n",
       "2        02-01-2018       1     0      1        0        0           0   \n",
       "3        03-01-2018       1     0      1        0        1           1   \n",
       "4        04-01-2018       1     0      1        0        2           1   \n",
       "5        05-01-2018       1     0      1        0        3           1   \n",
       "...             ...     ...   ...    ...      ...      ...         ...   \n",
       "726      27-12-2019       1     1     12        0        4           1   \n",
       "727      28-12-2019       1     1     12        0        5           1   \n",
       "728      29-12-2019       1     1     12        0        6           0   \n",
       "729      30-12-2019       1     1     12        0        0           0   \n",
       "730      31-12-2019       1     1     12        0        1           1   \n",
       "\n",
       "         weather       temp     atemp  humidity  windspeed  casual  \\\n",
       "instant                                                              \n",
       "1              2  14.110847  18.18125   80.5833  10.749882     331   \n",
       "2              2  14.902598  17.68695   69.6087  16.652113     131   \n",
       "3              1   8.050924   9.47025   43.7273  16.636703     120   \n",
       "4              1   8.200000  10.60610   59.0435  10.739832     108   \n",
       "5              1   9.305237  11.46350   43.6957  12.522300      82   \n",
       "...          ...        ...       ...       ...        ...     ...   \n",
       "726            2  10.420847  11.33210   65.2917  23.458911     247   \n",
       "727            2  10.386653  12.75230   59.0000  10.416557     644   \n",
       "728            2  10.386653  12.12000   75.2917   8.333661     159   \n",
       "729            1  10.489153  11.58500   48.3333  23.500518     364   \n",
       "730            2   8.849153  11.17435   57.7500  10.374682     439   \n",
       "\n",
       "         registered  count  \n",
       "instant                     \n",
       "1               654    985  \n",
       "2               670    801  \n",
       "3              1229   1349  \n",
       "4              1454   1562  \n",
       "5              1518   1600  \n",
       "...             ...    ...  \n",
       "726            1867   2114  \n",
       "727            2451   3095  \n",
       "728            1182   1341  \n",
       "729            1432   1796  \n",
       "730            2290   2729  \n",
       "\n",
       "[730 rows x 15 columns]"
      ]
     },
     "execution_count": 479,
     "metadata": {},
     "output_type": "execute_result"
    }
   ],
   "source": [
    "df"
   ]
  },
  {
   "cell_type": "code",
   "execution_count": 480,
   "id": "6521aff6",
   "metadata": {
    "ExecuteTime": {
     "end_time": "2022-03-06T06:49:47.530269Z",
     "start_time": "2022-03-06T06:49:47.410209Z"
    }
   },
   "outputs": [
    {
     "data": {
      "text/plain": [
       "dteday        0\n",
       "season        0\n",
       "year          0\n",
       "month         0\n",
       "holiday       0\n",
       "weekday       0\n",
       "workingday    0\n",
       "weather       0\n",
       "temp          0\n",
       "atemp         0\n",
       "humidity      0\n",
       "windspeed     0\n",
       "casual        0\n",
       "registered    0\n",
       "count         0\n",
       "dtype: int64"
      ]
     },
     "execution_count": 480,
     "metadata": {},
     "output_type": "execute_result"
    }
   ],
   "source": [
    "df.isnull().sum()"
   ]
  },
  {
   "cell_type": "code",
   "execution_count": 481,
   "id": "cfe7b048",
   "metadata": {
    "ExecuteTime": {
     "end_time": "2022-03-06T06:49:47.672182Z",
     "start_time": "2022-03-06T06:49:47.535270Z"
    }
   },
   "outputs": [
    {
     "name": "stdout",
     "output_type": "stream",
     "text": [
      "<class 'pandas.core.frame.DataFrame'>\n",
      "Int64Index: 730 entries, 1 to 730\n",
      "Data columns (total 15 columns):\n",
      " #   Column      Non-Null Count  Dtype  \n",
      "---  ------      --------------  -----  \n",
      " 0   dteday      730 non-null    object \n",
      " 1   season      730 non-null    int64  \n",
      " 2   year        730 non-null    int64  \n",
      " 3   month       730 non-null    int64  \n",
      " 4   holiday     730 non-null    int64  \n",
      " 5   weekday     730 non-null    int64  \n",
      " 6   workingday  730 non-null    int64  \n",
      " 7   weather     730 non-null    int64  \n",
      " 8   temp        730 non-null    float64\n",
      " 9   atemp       730 non-null    float64\n",
      " 10  humidity    730 non-null    float64\n",
      " 11  windspeed   730 non-null    float64\n",
      " 12  casual      730 non-null    int64  \n",
      " 13  registered  730 non-null    int64  \n",
      " 14  count       730 non-null    int64  \n",
      "dtypes: float64(4), int64(10), object(1)\n",
      "memory usage: 91.2+ KB\n"
     ]
    }
   ],
   "source": [
    "df.info()"
   ]
  },
  {
   "cell_type": "code",
   "execution_count": 482,
   "id": "52fdab7c",
   "metadata": {
    "ExecuteTime": {
     "end_time": "2022-03-06T06:49:47.796953Z",
     "start_time": "2022-03-06T06:49:47.677188Z"
    }
   },
   "outputs": [
    {
     "data": {
      "text/plain": [
       "Index(['dteday', 'season', 'year', 'month', 'holiday', 'weekday', 'workingday',\n",
       "       'weather', 'temp', 'atemp', 'humidity', 'windspeed', 'casual',\n",
       "       'registered', 'count'],\n",
       "      dtype='object')"
      ]
     },
     "execution_count": 482,
     "metadata": {},
     "output_type": "execute_result"
    }
   ],
   "source": [
    "df.columns"
   ]
  },
  {
   "cell_type": "code",
   "execution_count": 483,
   "id": "6ed9cfd9",
   "metadata": {
    "ExecuteTime": {
     "end_time": "2022-03-06T06:49:47.913823Z",
     "start_time": "2022-03-06T06:49:47.796953Z"
    }
   },
   "outputs": [
    {
     "data": {
      "text/plain": [
       "array([1, 2, 3, 4], dtype=int64)"
      ]
     },
     "execution_count": 483,
     "metadata": {},
     "output_type": "execute_result"
    }
   ],
   "source": [
    "df['season'].unique()"
   ]
  },
  {
   "cell_type": "code",
   "execution_count": 484,
   "id": "f77ffb59",
   "metadata": {
    "ExecuteTime": {
     "end_time": "2022-03-06T06:49:48.063231Z",
     "start_time": "2022-03-06T06:49:47.918794Z"
    }
   },
   "outputs": [],
   "source": [
    "df['season'] = df['season'].replace(1, 'spring')\n",
    "df['season'] = df['season'].replace(2, 'summer')\n",
    "df['season'] = df['season'].replace(3, 'fall')\n",
    "df['season'] = df['season'].replace(4, 'winter')\n",
    "#df['season'] = df.loc[(df['season']==1), 'season']='spring'"
   ]
  },
  {
   "cell_type": "code",
   "execution_count": 485,
   "id": "07a320e1",
   "metadata": {
    "ExecuteTime": {
     "end_time": "2022-03-06T06:49:48.185573Z",
     "start_time": "2022-03-06T06:49:48.065006Z"
    }
   },
   "outputs": [
    {
     "data": {
      "text/plain": [
       "array(['spring', 'summer', 'fall', 'winter'], dtype=object)"
      ]
     },
     "execution_count": 485,
     "metadata": {},
     "output_type": "execute_result"
    }
   ],
   "source": [
    "df['season'].unique()"
   ]
  },
  {
   "cell_type": "code",
   "execution_count": 486,
   "id": "b0411f65",
   "metadata": {
    "ExecuteTime": {
     "end_time": "2022-03-06T06:49:48.273497Z",
     "start_time": "2022-03-06T06:49:48.190542Z"
    }
   },
   "outputs": [
    {
     "data": {
      "text/plain": [
       "fall      188\n",
       "summer    184\n",
       "spring    180\n",
       "winter    178\n",
       "Name: season, dtype: int64"
      ]
     },
     "execution_count": 486,
     "metadata": {},
     "output_type": "execute_result"
    }
   ],
   "source": [
    "df['season'].value_counts()"
   ]
  },
  {
   "cell_type": "code",
   "execution_count": 487,
   "id": "988d9beb",
   "metadata": {
    "ExecuteTime": {
     "end_time": "2022-03-06T06:49:48.365442Z",
     "start_time": "2022-03-06T06:49:48.273497Z"
    }
   },
   "outputs": [],
   "source": [
    "def object_map(x):\n",
    "    return x.map({1:'jan',\n",
    "                  2:'feb',\n",
    "                  3:'mar',\n",
    "                  4:'apr',\n",
    "                  5:'may',\n",
    "                  6:'june',\n",
    "                  7:'july',\n",
    "                  8:'aug',\n",
    "                  9:'sep',\n",
    "                  10:'oct',\n",
    "                  11:'nov',\n",
    "                  12:'dec'})"
   ]
  },
  {
   "cell_type": "code",
   "execution_count": 488,
   "id": "70ba512b",
   "metadata": {
    "ExecuteTime": {
     "end_time": "2022-03-06T06:49:48.510375Z",
     "start_time": "2022-03-06T06:49:48.365442Z"
    }
   },
   "outputs": [],
   "source": [
    "df['month']= df[['month']].apply(object_map)"
   ]
  },
  {
   "cell_type": "code",
   "execution_count": 489,
   "id": "a19017d0",
   "metadata": {
    "ExecuteTime": {
     "end_time": "2022-03-06T06:49:48.635242Z",
     "start_time": "2022-03-06T06:49:48.515339Z"
    }
   },
   "outputs": [
    {
     "data": {
      "text/plain": [
       "array(['spring', 'summer', 'fall', 'winter'], dtype=object)"
      ]
     },
     "execution_count": 489,
     "metadata": {},
     "output_type": "execute_result"
    }
   ],
   "source": [
    "df['season'].unique()"
   ]
  },
  {
   "cell_type": "code",
   "execution_count": 490,
   "id": "6f652c7d",
   "metadata": {
    "ExecuteTime": {
     "end_time": "2022-03-06T06:49:48.740089Z",
     "start_time": "2022-03-06T06:49:48.640273Z"
    }
   },
   "outputs": [
    {
     "data": {
      "text/plain": [
       "jan     62\n",
       "mar     62\n",
       "may     62\n",
       "july    62\n",
       "aug     62\n",
       "oct     62\n",
       "dec     62\n",
       "apr     60\n",
       "june    60\n",
       "sep     60\n",
       "nov     60\n",
       "feb     56\n",
       "Name: month, dtype: int64"
      ]
     },
     "execution_count": 490,
     "metadata": {},
     "output_type": "execute_result"
    }
   ],
   "source": [
    "df['month'].value_counts()"
   ]
  },
  {
   "cell_type": "code",
   "execution_count": 491,
   "id": "1726ded4",
   "metadata": {
    "ExecuteTime": {
     "end_time": "2022-03-06T06:49:48.826740Z",
     "start_time": "2022-03-06T06:49:48.740089Z"
    }
   },
   "outputs": [
    {
     "data": {
      "text/plain": [
       "0    709\n",
       "1     21\n",
       "Name: holiday, dtype: int64"
      ]
     },
     "execution_count": 491,
     "metadata": {},
     "output_type": "execute_result"
    }
   ],
   "source": [
    "df['holiday'].value_counts()"
   ]
  },
  {
   "cell_type": "code",
   "execution_count": 492,
   "id": "3285aa67",
   "metadata": {
    "ExecuteTime": {
     "end_time": "2022-03-06T06:49:48.971628Z",
     "start_time": "2022-03-06T06:49:48.826740Z"
    }
   },
   "outputs": [
    {
     "data": {
      "text/plain": [
       "array([6, 0, 1, 2, 3, 4, 5], dtype=int64)"
      ]
     },
     "execution_count": 492,
     "metadata": {},
     "output_type": "execute_result"
    }
   ],
   "source": [
    "df['weekday'].unique()"
   ]
  },
  {
   "cell_type": "code",
   "execution_count": 493,
   "id": "63853c34",
   "metadata": {
    "ExecuteTime": {
     "end_time": "2022-03-06T06:49:49.070482Z",
     "start_time": "2022-03-06T06:49:48.971628Z"
    }
   },
   "outputs": [],
   "source": [
    "def week_map(x):\n",
    "    return x.map({1:'wed',\n",
    "                  2:'thur',\n",
    "                  3:'fri',\n",
    "                  4:'sat',\n",
    "                  5:'sun',\n",
    "                  6:'mon',\n",
    "                  0:'tues'})"
   ]
  },
  {
   "cell_type": "code",
   "execution_count": 494,
   "id": "f20fd14d",
   "metadata": {
    "ExecuteTime": {
     "end_time": "2022-03-06T06:49:49.186914Z",
     "start_time": "2022-03-06T06:49:49.075483Z"
    }
   },
   "outputs": [],
   "source": [
    "df['weekday'] = df[['weekday']].apply(week_map)"
   ]
  },
  {
   "cell_type": "code",
   "execution_count": 495,
   "id": "f1374194",
   "metadata": {
    "ExecuteTime": {
     "end_time": "2022-03-06T06:49:49.330153Z",
     "start_time": "2022-03-06T06:49:49.196914Z"
    }
   },
   "outputs": [
    {
     "data": {
      "text/plain": [
       "array(['mon', 'tues', 'wed', 'thur', 'fri', 'sat', 'sun'], dtype=object)"
      ]
     },
     "execution_count": 495,
     "metadata": {},
     "output_type": "execute_result"
    }
   ],
   "source": [
    "df['weekday'].unique()"
   ]
  },
  {
   "cell_type": "code",
   "execution_count": 496,
   "id": "1fd6765a",
   "metadata": {
    "ExecuteTime": {
     "end_time": "2022-03-06T06:49:49.438431Z",
     "start_time": "2022-03-06T06:49:49.330153Z"
    }
   },
   "outputs": [
    {
     "data": {
      "text/plain": [
       "mon     105\n",
       "tues    105\n",
       "wed     105\n",
       "thur    104\n",
       "sat     104\n",
       "sun     104\n",
       "fri     103\n",
       "Name: weekday, dtype: int64"
      ]
     },
     "execution_count": 496,
     "metadata": {},
     "output_type": "execute_result"
    }
   ],
   "source": [
    "df['weekday'].value_counts()"
   ]
  },
  {
   "cell_type": "code",
   "execution_count": 497,
   "id": "7a612b4f",
   "metadata": {
    "ExecuteTime": {
     "end_time": "2022-03-06T06:49:49.574602Z",
     "start_time": "2022-03-06T06:49:49.443430Z"
    }
   },
   "outputs": [
    {
     "data": {
      "text/plain": [
       "1    499\n",
       "0    231\n",
       "Name: workingday, dtype: int64"
      ]
     },
     "execution_count": 497,
     "metadata": {},
     "output_type": "execute_result"
    }
   ],
   "source": [
    "df['workingday'].value_counts()"
   ]
  },
  {
   "cell_type": "code",
   "execution_count": 498,
   "id": "e122e122",
   "metadata": {
    "ExecuteTime": {
     "end_time": "2022-03-06T06:49:49.728748Z",
     "start_time": "2022-03-06T06:49:49.574602Z"
    }
   },
   "outputs": [
    {
     "data": {
      "text/plain": [
       "instant\n",
       "1      2\n",
       "2      2\n",
       "3      1\n",
       "4      1\n",
       "5      1\n",
       "      ..\n",
       "726    2\n",
       "727    2\n",
       "728    2\n",
       "729    1\n",
       "730    2\n",
       "Name: weather, Length: 730, dtype: int64"
      ]
     },
     "execution_count": 498,
     "metadata": {},
     "output_type": "execute_result"
    }
   ],
   "source": [
    "df['weather']"
   ]
  },
  {
   "cell_type": "code",
   "execution_count": 499,
   "id": "e4b88b47",
   "metadata": {
    "ExecuteTime": {
     "end_time": "2022-03-06T06:49:49.862644Z",
     "start_time": "2022-03-06T06:49:49.728748Z"
    }
   },
   "outputs": [
    {
     "data": {
      "text/plain": [
       "1    463\n",
       "2    246\n",
       "3     21\n",
       "Name: weather, dtype: int64"
      ]
     },
     "execution_count": 499,
     "metadata": {},
     "output_type": "execute_result"
    }
   ],
   "source": [
    "df['weather'].value_counts()"
   ]
  },
  {
   "cell_type": "code",
   "execution_count": 500,
   "id": "1aafbca5",
   "metadata": {
    "ExecuteTime": {
     "end_time": "2022-03-06T06:49:49.976080Z",
     "start_time": "2022-03-06T06:49:49.867644Z"
    }
   },
   "outputs": [],
   "source": [
    "def weather_map(x):\n",
    "    return x.map({1:'Clear',\n",
    "                  2:'Bad',\n",
    "                  3:'Rainy'})"
   ]
  },
  {
   "cell_type": "code",
   "execution_count": 501,
   "id": "5c00f075",
   "metadata": {
    "ExecuteTime": {
     "end_time": "2022-03-06T06:49:50.097156Z",
     "start_time": "2022-03-06T06:49:49.976080Z"
    }
   },
   "outputs": [],
   "source": [
    "df['weather'] = df[['weather']].apply(weather_map)"
   ]
  },
  {
   "cell_type": "code",
   "execution_count": 502,
   "id": "a1ad7c8d",
   "metadata": {
    "ExecuteTime": {
     "end_time": "2022-03-06T06:49:50.230201Z",
     "start_time": "2022-03-06T06:49:50.102156Z"
    }
   },
   "outputs": [
    {
     "data": {
      "text/plain": [
       "array(['Bad', 'Clear', 'Rainy'], dtype=object)"
      ]
     },
     "execution_count": 502,
     "metadata": {},
     "output_type": "execute_result"
    }
   ],
   "source": [
    "df['weather'].unique()"
   ]
  },
  {
   "cell_type": "code",
   "execution_count": 503,
   "id": "c88ab540",
   "metadata": {
    "ExecuteTime": {
     "end_time": "2022-03-06T06:49:50.357243Z",
     "start_time": "2022-03-06T06:49:50.235199Z"
    }
   },
   "outputs": [
    {
     "data": {
      "text/plain": [
       "Clear    463\n",
       "Bad      246\n",
       "Rainy     21\n",
       "Name: weather, dtype: int64"
      ]
     },
     "execution_count": 503,
     "metadata": {},
     "output_type": "execute_result"
    }
   ],
   "source": [
    "df['weather'].value_counts()"
   ]
  },
  {
   "cell_type": "code",
   "execution_count": 504,
   "id": "3b052ff0",
   "metadata": {
    "ExecuteTime": {
     "end_time": "2022-03-06T06:49:50.478081Z",
     "start_time": "2022-03-06T06:49:50.358834Z"
    }
   },
   "outputs": [
    {
     "name": "stdout",
     "output_type": "stream",
     "text": [
      "<class 'pandas.core.frame.DataFrame'>\n",
      "Int64Index: 730 entries, 1 to 730\n",
      "Data columns (total 15 columns):\n",
      " #   Column      Non-Null Count  Dtype  \n",
      "---  ------      --------------  -----  \n",
      " 0   dteday      730 non-null    object \n",
      " 1   season      730 non-null    object \n",
      " 2   year        730 non-null    int64  \n",
      " 3   month       730 non-null    object \n",
      " 4   holiday     730 non-null    int64  \n",
      " 5   weekday     730 non-null    object \n",
      " 6   workingday  730 non-null    int64  \n",
      " 7   weather     730 non-null    object \n",
      " 8   temp        730 non-null    float64\n",
      " 9   atemp       730 non-null    float64\n",
      " 10  humidity    730 non-null    float64\n",
      " 11  windspeed   730 non-null    float64\n",
      " 12  casual      730 non-null    int64  \n",
      " 13  registered  730 non-null    int64  \n",
      " 14  count       730 non-null    int64  \n",
      "dtypes: float64(4), int64(6), object(5)\n",
      "memory usage: 91.2+ KB\n"
     ]
    }
   ],
   "source": [
    "df.info()"
   ]
  },
  {
   "cell_type": "code",
   "execution_count": 505,
   "id": "6e886527",
   "metadata": {
    "ExecuteTime": {
     "end_time": "2022-03-06T06:49:50.575522Z",
     "start_time": "2022-03-06T06:49:50.478081Z"
    }
   },
   "outputs": [
    {
     "data": {
      "text/plain": [
       "instant\n",
       "1      14.110847\n",
       "2      14.902598\n",
       "3       8.050924\n",
       "4       8.200000\n",
       "5       9.305237\n",
       "         ...    \n",
       "726    10.420847\n",
       "727    10.386653\n",
       "728    10.386653\n",
       "729    10.489153\n",
       "730     8.849153\n",
       "Name: temp, Length: 730, dtype: float64"
      ]
     },
     "execution_count": 505,
     "metadata": {},
     "output_type": "execute_result"
    }
   ],
   "source": [
    "df['temp']"
   ]
  },
  {
   "cell_type": "code",
   "execution_count": 506,
   "id": "db7ee99c",
   "metadata": {
    "ExecuteTime": {
     "end_time": "2022-03-06T06:49:50.925439Z",
     "start_time": "2022-03-06T06:49:50.580499Z"
    }
   },
   "outputs": [
    {
     "data": {
      "image/png": "[encoded data removed]",
      "text/plain": [
       "<Figure size 1440x720 with 1 Axes>"
      ]
     },
     "metadata": {
      "needs_background": "light"
     },
     "output_type": "display_data"
    }
   ],
   "source": [
    "plt.figure(figsize=(20, 10))\n",
    "\n",
    "_=sns.distplot(df['temp'])\n",
    "plt.xlabel('Temperature', fontsize=20, labelpad=20)\n",
    "plt.ylabel('Density', fontsize=20, labelpad=20)\n",
    "ax = plt.gca()\n",
    "for i in ax.patches:\n",
    "    ax.text(i.get_x() + i.get_width()/2 , i.get_height(), '%.2f' %float(i.get_height()), fontsize=12, ha='center', va='bottom')\n",
    "plt.show()"
   ]
  },
  {
   "cell_type": "code",
   "execution_count": 507,
   "id": "9dc5c211",
   "metadata": {
    "ExecuteTime": {
     "end_time": "2022-03-06T06:49:51.146952Z",
     "start_time": "2022-03-06T06:49:50.925439Z"
    }
   },
   "outputs": [
    {
     "data": {
      "image/png": "[encoded data removed]",
      "text/plain": [
       "<Figure size 1440x720 with 1 Axes>"
      ]
     },
     "metadata": {
      "needs_background": "light"
     },
     "output_type": "display_data"
    }
   ],
   "source": [
    "plt.figure(figsize=(20, 10))\n",
    "\n",
    "_=sns.distplot(df['atemp'])\n",
    "plt.xlabel('atemp', fontsize=20, labelpad=20)\n",
    "plt.ylabel('Density', fontsize=20, labelpad=20)\n",
    "ax = plt.gca()\n",
    "for i in ax.patches:\n",
    "    ax.text(i.get_x() + i.get_width()/2 , i.get_height(), '%.2f' %float(i.get_height()), fontsize=12, ha='center', va='bottom')\n",
    "plt.show()"
   ]
  },
  {
   "cell_type": "code",
   "execution_count": 508,
   "id": "8e258155",
   "metadata": {
    "ExecuteTime": {
     "end_time": "2022-03-06T06:49:51.391955Z",
     "start_time": "2022-03-06T06:49:51.146952Z"
    }
   },
   "outputs": [
    {
     "data": {
      "image/png": "[encoded data removed]",
      "text/plain": [
       "<Figure size 1440x720 with 1 Axes>"
      ]
     },
     "metadata": {
      "needs_background": "light"
     },
     "output_type": "display_data"
    }
   ],
   "source": [
    "plt.figure(figsize=(20, 10))\n",
    "\n",
    "_=sns.distplot(df['humidity'])\n",
    "plt.xlabel('Humidity', fontsize=20, labelpad=20)\n",
    "plt.ylabel('Density', fontsize=20, labelpad=20)\n",
    "ax = plt.gca()\n",
    "for i in ax.patches:\n",
    "    ax.text(i.get_x() + i.get_width()/2 , i.get_height(), '%.2f' %float(i.get_height()), fontsize=12, ha='center', va='bottom')\n",
    "plt.show()"
   ]
  },
  {
   "cell_type": "code",
   "execution_count": 509,
   "id": "d89a6748",
   "metadata": {
    "ExecuteTime": {
     "end_time": "2022-03-06T06:49:51.658251Z",
     "start_time": "2022-03-06T06:49:51.391955Z"
    }
   },
   "outputs": [
    {
     "data": {
      "image/png": "[encoded data removed]",
      "text/plain": [
       "<Figure size 1440x720 with 1 Axes>"
      ]
     },
     "metadata": {
      "needs_background": "light"
     },
     "output_type": "display_data"
    }
   ],
   "source": [
    "plt.figure(figsize=(20, 10))\n",
    "\n",
    "_=sns.distplot(df['windspeed'])\n",
    "plt.xlabel('Wind Speed', fontsize=20, labelpad=20)\n",
    "plt.ylabel('Density', fontsize=20, labelpad=20)\n",
    "ax = plt.gca()\n",
    "for i in ax.patches:\n",
    "    ax.text(i.get_x() + i.get_width()/2 , i.get_height(), '%.2f' %float(i.get_height()), fontsize=12, ha='center', va='bottom')\n",
    "plt.show()"
   ]
  },
  {
   "cell_type": "code",
   "execution_count": 510,
   "id": "d544619d",
   "metadata": {
    "ExecuteTime": {
     "end_time": "2022-03-06T06:49:52.207503Z",
     "start_time": "2022-03-06T06:49:51.658251Z"
    }
   },
   "outputs": [
    {
     "data": {
      "image/png": "[encoded data removed]",
      "text/plain": [
       "<Figure size 1440x720 with 1 Axes>"
      ]
     },
     "metadata": {
      "needs_background": "light"
     },
     "output_type": "display_data"
    }
   ],
   "source": [
    "plt.figure(figsize=(20, 10))\n",
    "\n",
    "_=sns.distplot(df['count'])\n",
    "plt.xlabel('Count', fontsize=20, labelpad=20)\n",
    "plt.ylabel('Density', fontsize=20, labelpad=20)\n",
    "ax = plt.gca()\n",
    "for i in ax.patches:\n",
    "    ax.text(i.get_x() + i.get_width()/2 , i.get_height(), '%.2f' %float(i.get_height()), fontsize=12, ha='center', va='bottom')\n",
    "plt.show()"
   ]
  },
  {
   "cell_type": "code",
   "execution_count": 511,
   "id": "11cdfe46",
   "metadata": {
    "ExecuteTime": {
     "end_time": "2022-03-06T06:49:52.220526Z",
     "start_time": "2022-03-06T06:49:52.209484Z"
    }
   },
   "outputs": [],
   "source": [
    "df['dteday'] = pd.to_datetime(df['dteday'])\n",
    "#df['dteday']= df['dteday'].astype(df['dteday'])"
   ]
  },
  {
   "cell_type": "code",
   "execution_count": 512,
   "id": "f03a8d99",
   "metadata": {
    "ExecuteTime": {
     "end_time": "2022-03-06T06:49:52.384010Z",
     "start_time": "2022-03-06T06:49:52.221214Z"
    }
   },
   "outputs": [
    {
     "name": "stdout",
     "output_type": "stream",
     "text": [
      "<class 'pandas.core.frame.DataFrame'>\n",
      "Int64Index: 730 entries, 1 to 730\n",
      "Data columns (total 15 columns):\n",
      " #   Column      Non-Null Count  Dtype         \n",
      "---  ------      --------------  -----         \n",
      " 0   dteday      730 non-null    datetime64[ns]\n",
      " 1   season      730 non-null    object        \n",
      " 2   year        730 non-null    int64         \n",
      " 3   month       730 non-null    object        \n",
      " 4   holiday     730 non-null    int64         \n",
      " 5   weekday     730 non-null    object        \n",
      " 6   workingday  730 non-null    int64         \n",
      " 7   weather     730 non-null    object        \n",
      " 8   temp        730 non-null    float64       \n",
      " 9   atemp       730 non-null    float64       \n",
      " 10  humidity    730 non-null    float64       \n",
      " 11  windspeed   730 non-null    float64       \n",
      " 12  casual      730 non-null    int64         \n",
      " 13  registered  730 non-null    int64         \n",
      " 14  count       730 non-null    int64         \n",
      "dtypes: datetime64[ns](1), float64(4), int64(6), object(4)\n",
      "memory usage: 91.2+ KB\n"
     ]
    }
   ],
   "source": [
    "df.info()"
   ]
  },
  {
   "cell_type": "code",
   "execution_count": 513,
   "id": "112dcd03",
   "metadata": {
    "ExecuteTime": {
     "end_time": "2022-03-06T06:49:52.501900Z",
     "start_time": "2022-03-06T06:49:52.387984Z"
    }
   },
   "outputs": [],
   "source": [
    "df_categorical = df.select_dtypes('object')"
   ]
  },
  {
   "cell_type": "code",
   "execution_count": 514,
   "id": "852febaa",
   "metadata": {
    "ExecuteTime": {
     "end_time": "2022-03-06T06:49:52.640851Z",
     "start_time": "2022-03-06T06:49:52.505874Z"
    }
   },
   "outputs": [
    {
     "name": "stdout",
     "output_type": "stream",
     "text": [
      "<class 'pandas.core.frame.DataFrame'>\n",
      "Int64Index: 730 entries, 1 to 730\n",
      "Data columns (total 4 columns):\n",
      " #   Column   Non-Null Count  Dtype \n",
      "---  ------   --------------  ----- \n",
      " 0   season   730 non-null    object\n",
      " 1   month    730 non-null    object\n",
      " 2   weekday  730 non-null    object\n",
      " 3   weather  730 non-null    object\n",
      "dtypes: object(4)\n",
      "memory usage: 28.5+ KB\n"
     ]
    }
   ],
   "source": [
    "df_categorical.info()"
   ]
  },
  {
   "cell_type": "code",
   "execution_count": 515,
   "id": "40f40e4c",
   "metadata": {
    "ExecuteTime": {
     "end_time": "2022-03-06T06:49:52.782345Z",
     "start_time": "2022-03-06T06:49:52.644820Z"
    }
   },
   "outputs": [
    {
     "data": {
      "text/html": [
       "<div>\n",
       "<style scoped>\n",
       "    .dataframe tbody tr th:only-of-type {\n",
       "        vertical-align: middle;\n",
       "    }\n",
       "\n",
       "    .dataframe tbody tr th {\n",
       "        vertical-align: top;\n",
       "    }\n",
       "\n",
       "    .dataframe thead th {\n",
       "        text-align: right;\n",
       "    }\n",
       "</style>\n",
       "<table border=\"1\" class=\"dataframe\">\n",
       "  <thead>\n",
       "    <tr style=\"text-align: right;\">\n",
       "      <th></th>\n",
       "      <th>season</th>\n",
       "      <th>month</th>\n",
       "      <th>weekday</th>\n",
       "      <th>weather</th>\n",
       "    </tr>\n",
       "    <tr>\n",
       "      <th>instant</th>\n",
       "      <th></th>\n",
       "      <th></th>\n",
       "      <th></th>\n",
       "      <th></th>\n",
       "    </tr>\n",
       "  </thead>\n",
       "  <tbody>\n",
       "    <tr>\n",
       "      <th>1</th>\n",
       "      <td>spring</td>\n",
       "      <td>jan</td>\n",
       "      <td>mon</td>\n",
       "      <td>Bad</td>\n",
       "    </tr>\n",
       "    <tr>\n",
       "      <th>2</th>\n",
       "      <td>spring</td>\n",
       "      <td>jan</td>\n",
       "      <td>tues</td>\n",
       "      <td>Bad</td>\n",
       "    </tr>\n",
       "    <tr>\n",
       "      <th>3</th>\n",
       "      <td>spring</td>\n",
       "      <td>jan</td>\n",
       "      <td>wed</td>\n",
       "      <td>Clear</td>\n",
       "    </tr>\n",
       "    <tr>\n",
       "      <th>4</th>\n",
       "      <td>spring</td>\n",
       "      <td>jan</td>\n",
       "      <td>thur</td>\n",
       "      <td>Clear</td>\n",
       "    </tr>\n",
       "    <tr>\n",
       "      <th>5</th>\n",
       "      <td>spring</td>\n",
       "      <td>jan</td>\n",
       "      <td>fri</td>\n",
       "      <td>Clear</td>\n",
       "    </tr>\n",
       "    <tr>\n",
       "      <th>...</th>\n",
       "      <td>...</td>\n",
       "      <td>...</td>\n",
       "      <td>...</td>\n",
       "      <td>...</td>\n",
       "    </tr>\n",
       "    <tr>\n",
       "      <th>726</th>\n",
       "      <td>spring</td>\n",
       "      <td>dec</td>\n",
       "      <td>sat</td>\n",
       "      <td>Bad</td>\n",
       "    </tr>\n",
       "    <tr>\n",
       "      <th>727</th>\n",
       "      <td>spring</td>\n",
       "      <td>dec</td>\n",
       "      <td>sun</td>\n",
       "      <td>Bad</td>\n",
       "    </tr>\n",
       "    <tr>\n",
       "      <th>728</th>\n",
       "      <td>spring</td>\n",
       "      <td>dec</td>\n",
       "      <td>mon</td>\n",
       "      <td>Bad</td>\n",
       "    </tr>\n",
       "    <tr>\n",
       "      <th>729</th>\n",
       "      <td>spring</td>\n",
       "      <td>dec</td>\n",
       "      <td>tues</td>\n",
       "      <td>Clear</td>\n",
       "    </tr>\n",
       "    <tr>\n",
       "      <th>730</th>\n",
       "      <td>spring</td>\n",
       "      <td>dec</td>\n",
       "      <td>wed</td>\n",
       "      <td>Bad</td>\n",
       "    </tr>\n",
       "  </tbody>\n",
       "</table>\n",
       "<p>730 rows × 4 columns</p>\n",
       "</div>"
      ],
      "text/plain": [
       "         season month weekday weather\n",
       "instant                              \n",
       "1        spring   jan     mon     Bad\n",
       "2        spring   jan    tues     Bad\n",
       "3        spring   jan     wed   Clear\n",
       "4        spring   jan    thur   Clear\n",
       "5        spring   jan     fri   Clear\n",
       "...         ...   ...     ...     ...\n",
       "726      spring   dec     sat     Bad\n",
       "727      spring   dec     sun     Bad\n",
       "728      spring   dec     mon     Bad\n",
       "729      spring   dec    tues   Clear\n",
       "730      spring   dec     wed     Bad\n",
       "\n",
       "[730 rows x 4 columns]"
      ]
     },
     "execution_count": 515,
     "metadata": {},
     "output_type": "execute_result"
    }
   ],
   "source": [
    "df_categorical"
   ]
  },
  {
   "cell_type": "code",
   "execution_count": 516,
   "id": "29434f98",
   "metadata": {
    "ExecuteTime": {
     "end_time": "2022-03-06T06:49:53.797608Z",
     "start_time": "2022-03-06T06:49:52.782345Z"
    }
   },
   "outputs": [
    {
     "data": {
      "image/png": "[encoded data removed]",
      "text/plain": [
       "<Figure size 1440x2160 with 7 Axes>"
      ]
     },
     "metadata": {
      "needs_background": "light"
     },
     "output_type": "display_data"
    }
   ],
   "source": [
    "plt.figure(figsize=(20, 30))\n",
    "\n",
    "plt.subplot(4,2,1)\n",
    "sns.boxplot(x=df['season'], y=df['count'], data=df)\n",
    "\n",
    "plt.subplot(4,2,2)\n",
    "sns.boxplot(x=df['holiday'], y=df['count'], data=df)\n",
    "\n",
    "plt.subplot(4,2,3)\n",
    "sns.boxplot(x=df['workingday'], y=df['count'], data=df)\n",
    "\n",
    "plt.subplot(4,2,4)\n",
    "sns.boxplot(x=df['weather'], y=df['count'], data=df)\n",
    "\n",
    "plt.subplot(4,2,5)\n",
    "sns.boxplot(x=df['month'], y=df['count'], data=df)\n",
    "\n",
    "plt.subplot(4,2,6)\n",
    "sns.boxplot(x=df['weekday'], y=df['count'], data=df)\n",
    "\n",
    "plt.subplot(4,2,7)\n",
    "sns.boxplot(x=df['year'], y=df['count'], data=df)\n",
    "\n",
    "plt.show()"
   ]
  },
  {
   "cell_type": "code",
   "execution_count": 517,
   "id": "0159b102",
   "metadata": {
    "ExecuteTime": {
     "end_time": "2022-03-06T06:49:53.830583Z",
     "start_time": "2022-03-06T06:49:53.797608Z"
    }
   },
   "outputs": [
    {
     "data": {
      "text/html": [
       "<div>\n",
       "<style scoped>\n",
       "    .dataframe tbody tr th:only-of-type {\n",
       "        vertical-align: middle;\n",
       "    }\n",
       "\n",
       "    .dataframe tbody tr th {\n",
       "        vertical-align: top;\n",
       "    }\n",
       "\n",
       "    .dataframe thead th {\n",
       "        text-align: right;\n",
       "    }\n",
       "</style>\n",
       "<table border=\"1\" class=\"dataframe\">\n",
       "  <thead>\n",
       "    <tr style=\"text-align: right;\">\n",
       "      <th></th>\n",
       "      <th>year</th>\n",
       "      <th>holiday</th>\n",
       "      <th>workingday</th>\n",
       "      <th>temp</th>\n",
       "      <th>atemp</th>\n",
       "      <th>humidity</th>\n",
       "      <th>windspeed</th>\n",
       "      <th>casual</th>\n",
       "      <th>registered</th>\n",
       "      <th>count</th>\n",
       "    </tr>\n",
       "    <tr>\n",
       "      <th>instant</th>\n",
       "      <th></th>\n",
       "      <th></th>\n",
       "      <th></th>\n",
       "      <th></th>\n",
       "      <th></th>\n",
       "      <th></th>\n",
       "      <th></th>\n",
       "      <th></th>\n",
       "      <th></th>\n",
       "      <th></th>\n",
       "    </tr>\n",
       "  </thead>\n",
       "  <tbody>\n",
       "    <tr>\n",
       "      <th>1</th>\n",
       "      <td>0</td>\n",
       "      <td>0</td>\n",
       "      <td>0</td>\n",
       "      <td>14.110847</td>\n",
       "      <td>18.18125</td>\n",
       "      <td>80.5833</td>\n",
       "      <td>10.749882</td>\n",
       "      <td>331</td>\n",
       "      <td>654</td>\n",
       "      <td>985</td>\n",
       "    </tr>\n",
       "    <tr>\n",
       "      <th>2</th>\n",
       "      <td>0</td>\n",
       "      <td>0</td>\n",
       "      <td>0</td>\n",
       "      <td>14.902598</td>\n",
       "      <td>17.68695</td>\n",
       "      <td>69.6087</td>\n",
       "      <td>16.652113</td>\n",
       "      <td>131</td>\n",
       "      <td>670</td>\n",
       "      <td>801</td>\n",
       "    </tr>\n",
       "    <tr>\n",
       "      <th>3</th>\n",
       "      <td>0</td>\n",
       "      <td>0</td>\n",
       "      <td>1</td>\n",
       "      <td>8.050924</td>\n",
       "      <td>9.47025</td>\n",
       "      <td>43.7273</td>\n",
       "      <td>16.636703</td>\n",
       "      <td>120</td>\n",
       "      <td>1229</td>\n",
       "      <td>1349</td>\n",
       "    </tr>\n",
       "    <tr>\n",
       "      <th>4</th>\n",
       "      <td>0</td>\n",
       "      <td>0</td>\n",
       "      <td>1</td>\n",
       "      <td>8.200000</td>\n",
       "      <td>10.60610</td>\n",
       "      <td>59.0435</td>\n",
       "      <td>10.739832</td>\n",
       "      <td>108</td>\n",
       "      <td>1454</td>\n",
       "      <td>1562</td>\n",
       "    </tr>\n",
       "    <tr>\n",
       "      <th>5</th>\n",
       "      <td>0</td>\n",
       "      <td>0</td>\n",
       "      <td>1</td>\n",
       "      <td>9.305237</td>\n",
       "      <td>11.46350</td>\n",
       "      <td>43.6957</td>\n",
       "      <td>12.522300</td>\n",
       "      <td>82</td>\n",
       "      <td>1518</td>\n",
       "      <td>1600</td>\n",
       "    </tr>\n",
       "    <tr>\n",
       "      <th>...</th>\n",
       "      <td>...</td>\n",
       "      <td>...</td>\n",
       "      <td>...</td>\n",
       "      <td>...</td>\n",
       "      <td>...</td>\n",
       "      <td>...</td>\n",
       "      <td>...</td>\n",
       "      <td>...</td>\n",
       "      <td>...</td>\n",
       "      <td>...</td>\n",
       "    </tr>\n",
       "    <tr>\n",
       "      <th>726</th>\n",
       "      <td>1</td>\n",
       "      <td>0</td>\n",
       "      <td>1</td>\n",
       "      <td>10.420847</td>\n",
       "      <td>11.33210</td>\n",
       "      <td>65.2917</td>\n",
       "      <td>23.458911</td>\n",
       "      <td>247</td>\n",
       "      <td>1867</td>\n",
       "      <td>2114</td>\n",
       "    </tr>\n",
       "    <tr>\n",
       "      <th>727</th>\n",
       "      <td>1</td>\n",
       "      <td>0</td>\n",
       "      <td>1</td>\n",
       "      <td>10.386653</td>\n",
       "      <td>12.75230</td>\n",
       "      <td>59.0000</td>\n",
       "      <td>10.416557</td>\n",
       "      <td>644</td>\n",
       "      <td>2451</td>\n",
       "      <td>3095</td>\n",
       "    </tr>\n",
       "    <tr>\n",
       "      <th>728</th>\n",
       "      <td>1</td>\n",
       "      <td>0</td>\n",
       "      <td>0</td>\n",
       "      <td>10.386653</td>\n",
       "      <td>12.12000</td>\n",
       "      <td>75.2917</td>\n",
       "      <td>8.333661</td>\n",
       "      <td>159</td>\n",
       "      <td>1182</td>\n",
       "      <td>1341</td>\n",
       "    </tr>\n",
       "    <tr>\n",
       "      <th>729</th>\n",
       "      <td>1</td>\n",
       "      <td>0</td>\n",
       "      <td>0</td>\n",
       "      <td>10.489153</td>\n",
       "      <td>11.58500</td>\n",
       "      <td>48.3333</td>\n",
       "      <td>23.500518</td>\n",
       "      <td>364</td>\n",
       "      <td>1432</td>\n",
       "      <td>1796</td>\n",
       "    </tr>\n",
       "    <tr>\n",
       "      <th>730</th>\n",
       "      <td>1</td>\n",
       "      <td>0</td>\n",
       "      <td>1</td>\n",
       "      <td>8.849153</td>\n",
       "      <td>11.17435</td>\n",
       "      <td>57.7500</td>\n",
       "      <td>10.374682</td>\n",
       "      <td>439</td>\n",
       "      <td>2290</td>\n",
       "      <td>2729</td>\n",
       "    </tr>\n",
       "  </tbody>\n",
       "</table>\n",
       "<p>730 rows × 10 columns</p>\n",
       "</div>"
      ],
      "text/plain": [
       "         year  holiday  workingday       temp     atemp  humidity  windspeed  \\\n",
       "instant                                                                        \n",
       "1           0        0           0  14.110847  18.18125   80.5833  10.749882   \n",
       "2           0        0           0  14.902598  17.68695   69.6087  16.652113   \n",
       "3           0        0           1   8.050924   9.47025   43.7273  16.636703   \n",
       "4           0        0           1   8.200000  10.60610   59.0435  10.739832   \n",
       "5           0        0           1   9.305237  11.46350   43.6957  12.522300   \n",
       "...       ...      ...         ...        ...       ...       ...        ...   \n",
       "726         1        0           1  10.420847  11.33210   65.2917  23.458911   \n",
       "727         1        0           1  10.386653  12.75230   59.0000  10.416557   \n",
       "728         1        0           0  10.386653  12.12000   75.2917   8.333661   \n",
       "729         1        0           0  10.489153  11.58500   48.3333  23.500518   \n",
       "730         1        0           1   8.849153  11.17435   57.7500  10.374682   \n",
       "\n",
       "         casual  registered  count  \n",
       "instant                             \n",
       "1           331         654    985  \n",
       "2           131         670    801  \n",
       "3           120        1229   1349  \n",
       "4           108        1454   1562  \n",
       "5            82        1518   1600  \n",
       "...         ...         ...    ...  \n",
       "726         247        1867   2114  \n",
       "727         644        2451   3095  \n",
       "728         159        1182   1341  \n",
       "729         364        1432   1796  \n",
       "730         439        2290   2729  \n",
       "\n",
       "[730 rows x 10 columns]"
      ]
     },
     "execution_count": 517,
     "metadata": {},
     "output_type": "execute_result"
    }
   ],
   "source": [
    "df_numeric = df.select_dtypes(include=['float64', 'int64'])\n",
    "df_numeric"
   ]
  },
  {
   "cell_type": "code",
   "execution_count": 518,
   "id": "c15dce7a",
   "metadata": {
    "ExecuteTime": {
     "end_time": "2022-03-06T06:49:53.993091Z",
     "start_time": "2022-03-06T06:49:53.830583Z"
    }
   },
   "outputs": [],
   "source": [
    "df_numeric = df_numeric.drop(['year', 'holiday', 'workingday', 'atemp'], axis=1)"
   ]
  },
  {
   "cell_type": "code",
   "execution_count": 519,
   "id": "b1483d4e",
   "metadata": {
    "ExecuteTime": {
     "end_time": "2022-03-06T06:49:54.386420Z",
     "start_time": "2022-03-06T06:49:53.996093Z"
    }
   },
   "outputs": [
    {
     "data": {
      "image/png": "[encoded data removed]",
      "text/plain": [
       "<Figure size 1440x720 with 2 Axes>"
      ]
     },
     "metadata": {
      "needs_background": "light"
     },
     "output_type": "display_data"
    }
   ],
   "source": [
    "plt.figure(figsize=(20, 10))\n",
    "mask=np.array(df_numeric.corr())\n",
    "mask[np.tril_indices_from(mask)]=False\n",
    "sns.heatmap(df_numeric.corr(), annot=True, mask=mask)\n",
    "plt.show()"
   ]
  },
  {
   "cell_type": "code",
   "execution_count": 520,
   "id": "9cbea79b",
   "metadata": {
    "ExecuteTime": {
     "end_time": "2022-03-06T06:49:54.404399Z",
     "start_time": "2022-03-06T06:49:54.386420Z"
    }
   },
   "outputs": [
    {
     "data": {
      "text/html": [
       "<div>\n",
       "<style scoped>\n",
       "    .dataframe tbody tr th:only-of-type {\n",
       "        vertical-align: middle;\n",
       "    }\n",
       "\n",
       "    .dataframe tbody tr th {\n",
       "        vertical-align: top;\n",
       "    }\n",
       "\n",
       "    .dataframe thead th {\n",
       "        text-align: right;\n",
       "    }\n",
       "</style>\n",
       "<table border=\"1\" class=\"dataframe\">\n",
       "  <thead>\n",
       "    <tr style=\"text-align: right;\">\n",
       "      <th></th>\n",
       "      <th>season</th>\n",
       "      <th>month</th>\n",
       "      <th>weekday</th>\n",
       "      <th>weather</th>\n",
       "    </tr>\n",
       "    <tr>\n",
       "      <th>instant</th>\n",
       "      <th></th>\n",
       "      <th></th>\n",
       "      <th></th>\n",
       "      <th></th>\n",
       "    </tr>\n",
       "  </thead>\n",
       "  <tbody>\n",
       "    <tr>\n",
       "      <th>1</th>\n",
       "      <td>spring</td>\n",
       "      <td>jan</td>\n",
       "      <td>mon</td>\n",
       "      <td>Bad</td>\n",
       "    </tr>\n",
       "    <tr>\n",
       "      <th>2</th>\n",
       "      <td>spring</td>\n",
       "      <td>jan</td>\n",
       "      <td>tues</td>\n",
       "      <td>Bad</td>\n",
       "    </tr>\n",
       "    <tr>\n",
       "      <th>3</th>\n",
       "      <td>spring</td>\n",
       "      <td>jan</td>\n",
       "      <td>wed</td>\n",
       "      <td>Clear</td>\n",
       "    </tr>\n",
       "    <tr>\n",
       "      <th>4</th>\n",
       "      <td>spring</td>\n",
       "      <td>jan</td>\n",
       "      <td>thur</td>\n",
       "      <td>Clear</td>\n",
       "    </tr>\n",
       "    <tr>\n",
       "      <th>5</th>\n",
       "      <td>spring</td>\n",
       "      <td>jan</td>\n",
       "      <td>fri</td>\n",
       "      <td>Clear</td>\n",
       "    </tr>\n",
       "    <tr>\n",
       "      <th>...</th>\n",
       "      <td>...</td>\n",
       "      <td>...</td>\n",
       "      <td>...</td>\n",
       "      <td>...</td>\n",
       "    </tr>\n",
       "    <tr>\n",
       "      <th>726</th>\n",
       "      <td>spring</td>\n",
       "      <td>dec</td>\n",
       "      <td>sat</td>\n",
       "      <td>Bad</td>\n",
       "    </tr>\n",
       "    <tr>\n",
       "      <th>727</th>\n",
       "      <td>spring</td>\n",
       "      <td>dec</td>\n",
       "      <td>sun</td>\n",
       "      <td>Bad</td>\n",
       "    </tr>\n",
       "    <tr>\n",
       "      <th>728</th>\n",
       "      <td>spring</td>\n",
       "      <td>dec</td>\n",
       "      <td>mon</td>\n",
       "      <td>Bad</td>\n",
       "    </tr>\n",
       "    <tr>\n",
       "      <th>729</th>\n",
       "      <td>spring</td>\n",
       "      <td>dec</td>\n",
       "      <td>tues</td>\n",
       "      <td>Clear</td>\n",
       "    </tr>\n",
       "    <tr>\n",
       "      <th>730</th>\n",
       "      <td>spring</td>\n",
       "      <td>dec</td>\n",
       "      <td>wed</td>\n",
       "      <td>Bad</td>\n",
       "    </tr>\n",
       "  </tbody>\n",
       "</table>\n",
       "<p>730 rows × 4 columns</p>\n",
       "</div>"
      ],
      "text/plain": [
       "         season month weekday weather\n",
       "instant                              \n",
       "1        spring   jan     mon     Bad\n",
       "2        spring   jan    tues     Bad\n",
       "3        spring   jan     wed   Clear\n",
       "4        spring   jan    thur   Clear\n",
       "5        spring   jan     fri   Clear\n",
       "...         ...   ...     ...     ...\n",
       "726      spring   dec     sat     Bad\n",
       "727      spring   dec     sun     Bad\n",
       "728      spring   dec     mon     Bad\n",
       "729      spring   dec    tues   Clear\n",
       "730      spring   dec     wed     Bad\n",
       "\n",
       "[730 rows x 4 columns]"
      ]
     },
     "execution_count": 520,
     "metadata": {},
     "output_type": "execute_result"
    }
   ],
   "source": [
    "df_categorical"
   ]
  },
  {
   "cell_type": "code",
   "execution_count": 521,
   "id": "77e35914",
   "metadata": {
    "ExecuteTime": {
     "end_time": "2022-03-06T06:49:54.563543Z",
     "start_time": "2022-03-06T06:49:54.404399Z"
    }
   },
   "outputs": [
    {
     "data": {
      "text/html": [
       "<div>\n",
       "<style scoped>\n",
       "    .dataframe tbody tr th:only-of-type {\n",
       "        vertical-align: middle;\n",
       "    }\n",
       "\n",
       "    .dataframe tbody tr th {\n",
       "        vertical-align: top;\n",
       "    }\n",
       "\n",
       "    .dataframe thead th {\n",
       "        text-align: right;\n",
       "    }\n",
       "</style>\n",
       "<table border=\"1\" class=\"dataframe\">\n",
       "  <thead>\n",
       "    <tr style=\"text-align: right;\">\n",
       "      <th></th>\n",
       "      <th>season_spring</th>\n",
       "      <th>season_summer</th>\n",
       "      <th>season_winter</th>\n",
       "      <th>month_aug</th>\n",
       "      <th>month_dec</th>\n",
       "      <th>month_feb</th>\n",
       "      <th>month_jan</th>\n",
       "      <th>month_july</th>\n",
       "      <th>month_june</th>\n",
       "      <th>month_mar</th>\n",
       "      <th>...</th>\n",
       "      <th>month_oct</th>\n",
       "      <th>month_sep</th>\n",
       "      <th>weekday_mon</th>\n",
       "      <th>weekday_sat</th>\n",
       "      <th>weekday_sun</th>\n",
       "      <th>weekday_thur</th>\n",
       "      <th>weekday_tues</th>\n",
       "      <th>weekday_wed</th>\n",
       "      <th>weather_Clear</th>\n",
       "      <th>weather_Rainy</th>\n",
       "    </tr>\n",
       "    <tr>\n",
       "      <th>instant</th>\n",
       "      <th></th>\n",
       "      <th></th>\n",
       "      <th></th>\n",
       "      <th></th>\n",
       "      <th></th>\n",
       "      <th></th>\n",
       "      <th></th>\n",
       "      <th></th>\n",
       "      <th></th>\n",
       "      <th></th>\n",
       "      <th></th>\n",
       "      <th></th>\n",
       "      <th></th>\n",
       "      <th></th>\n",
       "      <th></th>\n",
       "      <th></th>\n",
       "      <th></th>\n",
       "      <th></th>\n",
       "      <th></th>\n",
       "      <th></th>\n",
       "      <th></th>\n",
       "    </tr>\n",
       "  </thead>\n",
       "  <tbody>\n",
       "    <tr>\n",
       "      <th>1</th>\n",
       "      <td>1</td>\n",
       "      <td>0</td>\n",
       "      <td>0</td>\n",
       "      <td>0</td>\n",
       "      <td>0</td>\n",
       "      <td>0</td>\n",
       "      <td>1</td>\n",
       "      <td>0</td>\n",
       "      <td>0</td>\n",
       "      <td>0</td>\n",
       "      <td>...</td>\n",
       "      <td>0</td>\n",
       "      <td>0</td>\n",
       "      <td>1</td>\n",
       "      <td>0</td>\n",
       "      <td>0</td>\n",
       "      <td>0</td>\n",
       "      <td>0</td>\n",
       "      <td>0</td>\n",
       "      <td>0</td>\n",
       "      <td>0</td>\n",
       "    </tr>\n",
       "    <tr>\n",
       "      <th>2</th>\n",
       "      <td>1</td>\n",
       "      <td>0</td>\n",
       "      <td>0</td>\n",
       "      <td>0</td>\n",
       "      <td>0</td>\n",
       "      <td>0</td>\n",
       "      <td>1</td>\n",
       "      <td>0</td>\n",
       "      <td>0</td>\n",
       "      <td>0</td>\n",
       "      <td>...</td>\n",
       "      <td>0</td>\n",
       "      <td>0</td>\n",
       "      <td>0</td>\n",
       "      <td>0</td>\n",
       "      <td>0</td>\n",
       "      <td>0</td>\n",
       "      <td>1</td>\n",
       "      <td>0</td>\n",
       "      <td>0</td>\n",
       "      <td>0</td>\n",
       "    </tr>\n",
       "    <tr>\n",
       "      <th>3</th>\n",
       "      <td>1</td>\n",
       "      <td>0</td>\n",
       "      <td>0</td>\n",
       "      <td>0</td>\n",
       "      <td>0</td>\n",
       "      <td>0</td>\n",
       "      <td>1</td>\n",
       "      <td>0</td>\n",
       "      <td>0</td>\n",
       "      <td>0</td>\n",
       "      <td>...</td>\n",
       "      <td>0</td>\n",
       "      <td>0</td>\n",
       "      <td>0</td>\n",
       "      <td>0</td>\n",
       "      <td>0</td>\n",
       "      <td>0</td>\n",
       "      <td>0</td>\n",
       "      <td>1</td>\n",
       "      <td>1</td>\n",
       "      <td>0</td>\n",
       "    </tr>\n",
       "    <tr>\n",
       "      <th>4</th>\n",
       "      <td>1</td>\n",
       "      <td>0</td>\n",
       "      <td>0</td>\n",
       "      <td>0</td>\n",
       "      <td>0</td>\n",
       "      <td>0</td>\n",
       "      <td>1</td>\n",
       "      <td>0</td>\n",
       "      <td>0</td>\n",
       "      <td>0</td>\n",
       "      <td>...</td>\n",
       "      <td>0</td>\n",
       "      <td>0</td>\n",
       "      <td>0</td>\n",
       "      <td>0</td>\n",
       "      <td>0</td>\n",
       "      <td>1</td>\n",
       "      <td>0</td>\n",
       "      <td>0</td>\n",
       "      <td>1</td>\n",
       "      <td>0</td>\n",
       "    </tr>\n",
       "    <tr>\n",
       "      <th>5</th>\n",
       "      <td>1</td>\n",
       "      <td>0</td>\n",
       "      <td>0</td>\n",
       "      <td>0</td>\n",
       "      <td>0</td>\n",
       "      <td>0</td>\n",
       "      <td>1</td>\n",
       "      <td>0</td>\n",
       "      <td>0</td>\n",
       "      <td>0</td>\n",
       "      <td>...</td>\n",
       "      <td>0</td>\n",
       "      <td>0</td>\n",
       "      <td>0</td>\n",
       "      <td>0</td>\n",
       "      <td>0</td>\n",
       "      <td>0</td>\n",
       "      <td>0</td>\n",
       "      <td>0</td>\n",
       "      <td>1</td>\n",
       "      <td>0</td>\n",
       "    </tr>\n",
       "  </tbody>\n",
       "</table>\n",
       "<p>5 rows × 22 columns</p>\n",
       "</div>"
      ],
      "text/plain": [
       "         season_spring  season_summer  season_winter  month_aug  month_dec  \\\n",
       "instant                                                                      \n",
       "1                    1              0              0          0          0   \n",
       "2                    1              0              0          0          0   \n",
       "3                    1              0              0          0          0   \n",
       "4                    1              0              0          0          0   \n",
       "5                    1              0              0          0          0   \n",
       "\n",
       "         month_feb  month_jan  month_july  month_june  month_mar  ...  \\\n",
       "instant                                                           ...   \n",
       "1                0          1           0           0          0  ...   \n",
       "2                0          1           0           0          0  ...   \n",
       "3                0          1           0           0          0  ...   \n",
       "4                0          1           0           0          0  ...   \n",
       "5                0          1           0           0          0  ...   \n",
       "\n",
       "         month_oct  month_sep  weekday_mon  weekday_sat  weekday_sun  \\\n",
       "instant                                                                \n",
       "1                0          0            1            0            0   \n",
       "2                0          0            0            0            0   \n",
       "3                0          0            0            0            0   \n",
       "4                0          0            0            0            0   \n",
       "5                0          0            0            0            0   \n",
       "\n",
       "         weekday_thur  weekday_tues  weekday_wed  weather_Clear  weather_Rainy  \n",
       "instant                                                                         \n",
       "1                   0             0            0              0              0  \n",
       "2                   0             1            0              0              0  \n",
       "3                   0             0            1              1              0  \n",
       "4                   1             0            0              1              0  \n",
       "5                   0             0            0              1              0  \n",
       "\n",
       "[5 rows x 22 columns]"
      ]
     },
     "execution_count": 521,
     "metadata": {},
     "output_type": "execute_result"
    }
   ],
   "source": [
    "df_dummies = pd.get_dummies(df_categorical, drop_first=True)\n",
    "df_dummies.head()"
   ]
  },
  {
   "cell_type": "code",
   "execution_count": 522,
   "id": "d146a4e4",
   "metadata": {
    "ExecuteTime": {
     "end_time": "2022-03-06T06:49:54.628902Z",
     "start_time": "2022-03-06T06:49:54.563543Z"
    }
   },
   "outputs": [
    {
     "data": {
      "text/html": [
       "<div>\n",
       "<style scoped>\n",
       "    .dataframe tbody tr th:only-of-type {\n",
       "        vertical-align: middle;\n",
       "    }\n",
       "\n",
       "    .dataframe tbody tr th {\n",
       "        vertical-align: top;\n",
       "    }\n",
       "\n",
       "    .dataframe thead th {\n",
       "        text-align: right;\n",
       "    }\n",
       "</style>\n",
       "<table border=\"1\" class=\"dataframe\">\n",
       "  <thead>\n",
       "    <tr style=\"text-align: right;\">\n",
       "      <th></th>\n",
       "      <th>dteday</th>\n",
       "      <th>year</th>\n",
       "      <th>holiday</th>\n",
       "      <th>workingday</th>\n",
       "      <th>temp</th>\n",
       "      <th>atemp</th>\n",
       "      <th>humidity</th>\n",
       "      <th>windspeed</th>\n",
       "      <th>casual</th>\n",
       "      <th>registered</th>\n",
       "      <th>count</th>\n",
       "    </tr>\n",
       "    <tr>\n",
       "      <th>instant</th>\n",
       "      <th></th>\n",
       "      <th></th>\n",
       "      <th></th>\n",
       "      <th></th>\n",
       "      <th></th>\n",
       "      <th></th>\n",
       "      <th></th>\n",
       "      <th></th>\n",
       "      <th></th>\n",
       "      <th></th>\n",
       "      <th></th>\n",
       "    </tr>\n",
       "  </thead>\n",
       "  <tbody>\n",
       "    <tr>\n",
       "      <th>1</th>\n",
       "      <td>2018-01-01</td>\n",
       "      <td>0</td>\n",
       "      <td>0</td>\n",
       "      <td>0</td>\n",
       "      <td>14.110847</td>\n",
       "      <td>18.18125</td>\n",
       "      <td>80.5833</td>\n",
       "      <td>10.749882</td>\n",
       "      <td>331</td>\n",
       "      <td>654</td>\n",
       "      <td>985</td>\n",
       "    </tr>\n",
       "    <tr>\n",
       "      <th>2</th>\n",
       "      <td>2018-02-01</td>\n",
       "      <td>0</td>\n",
       "      <td>0</td>\n",
       "      <td>0</td>\n",
       "      <td>14.902598</td>\n",
       "      <td>17.68695</td>\n",
       "      <td>69.6087</td>\n",
       "      <td>16.652113</td>\n",
       "      <td>131</td>\n",
       "      <td>670</td>\n",
       "      <td>801</td>\n",
       "    </tr>\n",
       "    <tr>\n",
       "      <th>3</th>\n",
       "      <td>2018-03-01</td>\n",
       "      <td>0</td>\n",
       "      <td>0</td>\n",
       "      <td>1</td>\n",
       "      <td>8.050924</td>\n",
       "      <td>9.47025</td>\n",
       "      <td>43.7273</td>\n",
       "      <td>16.636703</td>\n",
       "      <td>120</td>\n",
       "      <td>1229</td>\n",
       "      <td>1349</td>\n",
       "    </tr>\n",
       "    <tr>\n",
       "      <th>4</th>\n",
       "      <td>2018-04-01</td>\n",
       "      <td>0</td>\n",
       "      <td>0</td>\n",
       "      <td>1</td>\n",
       "      <td>8.200000</td>\n",
       "      <td>10.60610</td>\n",
       "      <td>59.0435</td>\n",
       "      <td>10.739832</td>\n",
       "      <td>108</td>\n",
       "      <td>1454</td>\n",
       "      <td>1562</td>\n",
       "    </tr>\n",
       "    <tr>\n",
       "      <th>5</th>\n",
       "      <td>2018-05-01</td>\n",
       "      <td>0</td>\n",
       "      <td>0</td>\n",
       "      <td>1</td>\n",
       "      <td>9.305237</td>\n",
       "      <td>11.46350</td>\n",
       "      <td>43.6957</td>\n",
       "      <td>12.522300</td>\n",
       "      <td>82</td>\n",
       "      <td>1518</td>\n",
       "      <td>1600</td>\n",
       "    </tr>\n",
       "    <tr>\n",
       "      <th>...</th>\n",
       "      <td>...</td>\n",
       "      <td>...</td>\n",
       "      <td>...</td>\n",
       "      <td>...</td>\n",
       "      <td>...</td>\n",
       "      <td>...</td>\n",
       "      <td>...</td>\n",
       "      <td>...</td>\n",
       "      <td>...</td>\n",
       "      <td>...</td>\n",
       "      <td>...</td>\n",
       "    </tr>\n",
       "    <tr>\n",
       "      <th>726</th>\n",
       "      <td>2019-12-27</td>\n",
       "      <td>1</td>\n",
       "      <td>0</td>\n",
       "      <td>1</td>\n",
       "      <td>10.420847</td>\n",
       "      <td>11.33210</td>\n",
       "      <td>65.2917</td>\n",
       "      <td>23.458911</td>\n",
       "      <td>247</td>\n",
       "      <td>1867</td>\n",
       "      <td>2114</td>\n",
       "    </tr>\n",
       "    <tr>\n",
       "      <th>727</th>\n",
       "      <td>2019-12-28</td>\n",
       "      <td>1</td>\n",
       "      <td>0</td>\n",
       "      <td>1</td>\n",
       "      <td>10.386653</td>\n",
       "      <td>12.75230</td>\n",
       "      <td>59.0000</td>\n",
       "      <td>10.416557</td>\n",
       "      <td>644</td>\n",
       "      <td>2451</td>\n",
       "      <td>3095</td>\n",
       "    </tr>\n",
       "    <tr>\n",
       "      <th>728</th>\n",
       "      <td>2019-12-29</td>\n",
       "      <td>1</td>\n",
       "      <td>0</td>\n",
       "      <td>0</td>\n",
       "      <td>10.386653</td>\n",
       "      <td>12.12000</td>\n",
       "      <td>75.2917</td>\n",
       "      <td>8.333661</td>\n",
       "      <td>159</td>\n",
       "      <td>1182</td>\n",
       "      <td>1341</td>\n",
       "    </tr>\n",
       "    <tr>\n",
       "      <th>729</th>\n",
       "      <td>2019-12-30</td>\n",
       "      <td>1</td>\n",
       "      <td>0</td>\n",
       "      <td>0</td>\n",
       "      <td>10.489153</td>\n",
       "      <td>11.58500</td>\n",
       "      <td>48.3333</td>\n",
       "      <td>23.500518</td>\n",
       "      <td>364</td>\n",
       "      <td>1432</td>\n",
       "      <td>1796</td>\n",
       "    </tr>\n",
       "    <tr>\n",
       "      <th>730</th>\n",
       "      <td>2019-12-31</td>\n",
       "      <td>1</td>\n",
       "      <td>0</td>\n",
       "      <td>1</td>\n",
       "      <td>8.849153</td>\n",
       "      <td>11.17435</td>\n",
       "      <td>57.7500</td>\n",
       "      <td>10.374682</td>\n",
       "      <td>439</td>\n",
       "      <td>2290</td>\n",
       "      <td>2729</td>\n",
       "    </tr>\n",
       "  </tbody>\n",
       "</table>\n",
       "<p>730 rows × 11 columns</p>\n",
       "</div>"
      ],
      "text/plain": [
       "            dteday  year  holiday  workingday       temp     atemp  humidity  \\\n",
       "instant                                                                        \n",
       "1       2018-01-01     0        0           0  14.110847  18.18125   80.5833   \n",
       "2       2018-02-01     0        0           0  14.902598  17.68695   69.6087   \n",
       "3       2018-03-01     0        0           1   8.050924   9.47025   43.7273   \n",
       "4       2018-04-01     0        0           1   8.200000  10.60610   59.0435   \n",
       "5       2018-05-01     0        0           1   9.305237  11.46350   43.6957   \n",
       "...            ...   ...      ...         ...        ...       ...       ...   \n",
       "726     2019-12-27     1        0           1  10.420847  11.33210   65.2917   \n",
       "727     2019-12-28     1        0           1  10.386653  12.75230   59.0000   \n",
       "728     2019-12-29     1        0           0  10.386653  12.12000   75.2917   \n",
       "729     2019-12-30     1        0           0  10.489153  11.58500   48.3333   \n",
       "730     2019-12-31     1        0           1   8.849153  11.17435   57.7500   \n",
       "\n",
       "         windspeed  casual  registered  count  \n",
       "instant                                        \n",
       "1        10.749882     331         654    985  \n",
       "2        16.652113     131         670    801  \n",
       "3        16.636703     120        1229   1349  \n",
       "4        10.739832     108        1454   1562  \n",
       "5        12.522300      82        1518   1600  \n",
       "...            ...     ...         ...    ...  \n",
       "726      23.458911     247        1867   2114  \n",
       "727      10.416557     644        2451   3095  \n",
       "728       8.333661     159        1182   1341  \n",
       "729      23.500518     364        1432   1796  \n",
       "730      10.374682     439        2290   2729  \n",
       "\n",
       "[730 rows x 11 columns]"
      ]
     },
     "execution_count": 522,
     "metadata": {},
     "output_type": "execute_result"
    }
   ],
   "source": [
    "df = df.drop(list(df_categorical.columns), axis=1)\n",
    "df"
   ]
  },
  {
   "cell_type": "code",
   "execution_count": 523,
   "id": "aa020391",
   "metadata": {
    "ExecuteTime": {
     "end_time": "2022-03-06T06:49:54.769525Z",
     "start_time": "2022-03-06T06:49:54.628902Z"
    }
   },
   "outputs": [
    {
     "data": {
      "text/html": [
       "<div>\n",
       "<style scoped>\n",
       "    .dataframe tbody tr th:only-of-type {\n",
       "        vertical-align: middle;\n",
       "    }\n",
       "\n",
       "    .dataframe tbody tr th {\n",
       "        vertical-align: top;\n",
       "    }\n",
       "\n",
       "    .dataframe thead th {\n",
       "        text-align: right;\n",
       "    }\n",
       "</style>\n",
       "<table border=\"1\" class=\"dataframe\">\n",
       "  <thead>\n",
       "    <tr style=\"text-align: right;\">\n",
       "      <th></th>\n",
       "      <th>dteday</th>\n",
       "      <th>year</th>\n",
       "      <th>holiday</th>\n",
       "      <th>workingday</th>\n",
       "      <th>temp</th>\n",
       "      <th>atemp</th>\n",
       "      <th>humidity</th>\n",
       "      <th>windspeed</th>\n",
       "      <th>casual</th>\n",
       "      <th>registered</th>\n",
       "      <th>...</th>\n",
       "      <th>month_oct</th>\n",
       "      <th>month_sep</th>\n",
       "      <th>weekday_mon</th>\n",
       "      <th>weekday_sat</th>\n",
       "      <th>weekday_sun</th>\n",
       "      <th>weekday_thur</th>\n",
       "      <th>weekday_tues</th>\n",
       "      <th>weekday_wed</th>\n",
       "      <th>weather_Clear</th>\n",
       "      <th>weather_Rainy</th>\n",
       "    </tr>\n",
       "    <tr>\n",
       "      <th>instant</th>\n",
       "      <th></th>\n",
       "      <th></th>\n",
       "      <th></th>\n",
       "      <th></th>\n",
       "      <th></th>\n",
       "      <th></th>\n",
       "      <th></th>\n",
       "      <th></th>\n",
       "      <th></th>\n",
       "      <th></th>\n",
       "      <th></th>\n",
       "      <th></th>\n",
       "      <th></th>\n",
       "      <th></th>\n",
       "      <th></th>\n",
       "      <th></th>\n",
       "      <th></th>\n",
       "      <th></th>\n",
       "      <th></th>\n",
       "      <th></th>\n",
       "      <th></th>\n",
       "    </tr>\n",
       "  </thead>\n",
       "  <tbody>\n",
       "    <tr>\n",
       "      <th>1</th>\n",
       "      <td>2018-01-01</td>\n",
       "      <td>0</td>\n",
       "      <td>0</td>\n",
       "      <td>0</td>\n",
       "      <td>14.110847</td>\n",
       "      <td>18.18125</td>\n",
       "      <td>80.5833</td>\n",
       "      <td>10.749882</td>\n",
       "      <td>331</td>\n",
       "      <td>654</td>\n",
       "      <td>...</td>\n",
       "      <td>0</td>\n",
       "      <td>0</td>\n",
       "      <td>1</td>\n",
       "      <td>0</td>\n",
       "      <td>0</td>\n",
       "      <td>0</td>\n",
       "      <td>0</td>\n",
       "      <td>0</td>\n",
       "      <td>0</td>\n",
       "      <td>0</td>\n",
       "    </tr>\n",
       "    <tr>\n",
       "      <th>2</th>\n",
       "      <td>2018-02-01</td>\n",
       "      <td>0</td>\n",
       "      <td>0</td>\n",
       "      <td>0</td>\n",
       "      <td>14.902598</td>\n",
       "      <td>17.68695</td>\n",
       "      <td>69.6087</td>\n",
       "      <td>16.652113</td>\n",
       "      <td>131</td>\n",
       "      <td>670</td>\n",
       "      <td>...</td>\n",
       "      <td>0</td>\n",
       "      <td>0</td>\n",
       "      <td>0</td>\n",
       "      <td>0</td>\n",
       "      <td>0</td>\n",
       "      <td>0</td>\n",
       "      <td>1</td>\n",
       "      <td>0</td>\n",
       "      <td>0</td>\n",
       "      <td>0</td>\n",
       "    </tr>\n",
       "    <tr>\n",
       "      <th>3</th>\n",
       "      <td>2018-03-01</td>\n",
       "      <td>0</td>\n",
       "      <td>0</td>\n",
       "      <td>1</td>\n",
       "      <td>8.050924</td>\n",
       "      <td>9.47025</td>\n",
       "      <td>43.7273</td>\n",
       "      <td>16.636703</td>\n",
       "      <td>120</td>\n",
       "      <td>1229</td>\n",
       "      <td>...</td>\n",
       "      <td>0</td>\n",
       "      <td>0</td>\n",
       "      <td>0</td>\n",
       "      <td>0</td>\n",
       "      <td>0</td>\n",
       "      <td>0</td>\n",
       "      <td>0</td>\n",
       "      <td>1</td>\n",
       "      <td>1</td>\n",
       "      <td>0</td>\n",
       "    </tr>\n",
       "    <tr>\n",
       "      <th>4</th>\n",
       "      <td>2018-04-01</td>\n",
       "      <td>0</td>\n",
       "      <td>0</td>\n",
       "      <td>1</td>\n",
       "      <td>8.200000</td>\n",
       "      <td>10.60610</td>\n",
       "      <td>59.0435</td>\n",
       "      <td>10.739832</td>\n",
       "      <td>108</td>\n",
       "      <td>1454</td>\n",
       "      <td>...</td>\n",
       "      <td>0</td>\n",
       "      <td>0</td>\n",
       "      <td>0</td>\n",
       "      <td>0</td>\n",
       "      <td>0</td>\n",
       "      <td>1</td>\n",
       "      <td>0</td>\n",
       "      <td>0</td>\n",
       "      <td>1</td>\n",
       "      <td>0</td>\n",
       "    </tr>\n",
       "    <tr>\n",
       "      <th>5</th>\n",
       "      <td>2018-05-01</td>\n",
       "      <td>0</td>\n",
       "      <td>0</td>\n",
       "      <td>1</td>\n",
       "      <td>9.305237</td>\n",
       "      <td>11.46350</td>\n",
       "      <td>43.6957</td>\n",
       "      <td>12.522300</td>\n",
       "      <td>82</td>\n",
       "      <td>1518</td>\n",
       "      <td>...</td>\n",
       "      <td>0</td>\n",
       "      <td>0</td>\n",
       "      <td>0</td>\n",
       "      <td>0</td>\n",
       "      <td>0</td>\n",
       "      <td>0</td>\n",
       "      <td>0</td>\n",
       "      <td>0</td>\n",
       "      <td>1</td>\n",
       "      <td>0</td>\n",
       "    </tr>\n",
       "  </tbody>\n",
       "</table>\n",
       "<p>5 rows × 33 columns</p>\n",
       "</div>"
      ],
      "text/plain": [
       "            dteday  year  holiday  workingday       temp     atemp  humidity  \\\n",
       "instant                                                                        \n",
       "1       2018-01-01     0        0           0  14.110847  18.18125   80.5833   \n",
       "2       2018-02-01     0        0           0  14.902598  17.68695   69.6087   \n",
       "3       2018-03-01     0        0           1   8.050924   9.47025   43.7273   \n",
       "4       2018-04-01     0        0           1   8.200000  10.60610   59.0435   \n",
       "5       2018-05-01     0        0           1   9.305237  11.46350   43.6957   \n",
       "\n",
       "         windspeed  casual  registered  ...  month_oct  month_sep  \\\n",
       "instant                                 ...                         \n",
       "1        10.749882     331         654  ...          0          0   \n",
       "2        16.652113     131         670  ...          0          0   \n",
       "3        16.636703     120        1229  ...          0          0   \n",
       "4        10.739832     108        1454  ...          0          0   \n",
       "5        12.522300      82        1518  ...          0          0   \n",
       "\n",
       "         weekday_mon  weekday_sat  weekday_sun  weekday_thur  weekday_tues  \\\n",
       "instant                                                                      \n",
       "1                  1            0            0             0             0   \n",
       "2                  0            0            0             0             1   \n",
       "3                  0            0            0             0             0   \n",
       "4                  0            0            0             1             0   \n",
       "5                  0            0            0             0             0   \n",
       "\n",
       "         weekday_wed  weather_Clear  weather_Rainy  \n",
       "instant                                             \n",
       "1                  0              0              0  \n",
       "2                  0              0              0  \n",
       "3                  1              1              0  \n",
       "4                  0              1              0  \n",
       "5                  0              1              0  \n",
       "\n",
       "[5 rows x 33 columns]"
      ]
     },
     "execution_count": 523,
     "metadata": {},
     "output_type": "execute_result"
    }
   ],
   "source": [
    "df = pd.concat([df, df_dummies], axis=1)\n",
    "df.head()"
   ]
  },
  {
   "cell_type": "code",
   "execution_count": 524,
   "id": "b79ac380",
   "metadata": {
    "ExecuteTime": {
     "end_time": "2022-03-06T06:49:54.888812Z",
     "start_time": "2022-03-06T06:49:54.769525Z"
    }
   },
   "outputs": [
    {
     "name": "stdout",
     "output_type": "stream",
     "text": [
      "<class 'pandas.core.frame.DataFrame'>\n",
      "Int64Index: 730 entries, 1 to 730\n",
      "Data columns (total 33 columns):\n",
      " #   Column         Non-Null Count  Dtype         \n",
      "---  ------         --------------  -----         \n",
      " 0   dteday         730 non-null    datetime64[ns]\n",
      " 1   year           730 non-null    int64         \n",
      " 2   holiday        730 non-null    int64         \n",
      " 3   workingday     730 non-null    int64         \n",
      " 4   temp           730 non-null    float64       \n",
      " 5   atemp          730 non-null    float64       \n",
      " 6   humidity       730 non-null    float64       \n",
      " 7   windspeed      730 non-null    float64       \n",
      " 8   casual         730 non-null    int64         \n",
      " 9   registered     730 non-null    int64         \n",
      " 10  count          730 non-null    int64         \n",
      " 11  season_spring  730 non-null    uint8         \n",
      " 12  season_summer  730 non-null    uint8         \n",
      " 13  season_winter  730 non-null    uint8         \n",
      " 14  month_aug      730 non-null    uint8         \n",
      " 15  month_dec      730 non-null    uint8         \n",
      " 16  month_feb      730 non-null    uint8         \n",
      " 17  month_jan      730 non-null    uint8         \n",
      " 18  month_july     730 non-null    uint8         \n",
      " 19  month_june     730 non-null    uint8         \n",
      " 20  month_mar      730 non-null    uint8         \n",
      " 21  month_may      730 non-null    uint8         \n",
      " 22  month_nov      730 non-null    uint8         \n",
      " 23  month_oct      730 non-null    uint8         \n",
      " 24  month_sep      730 non-null    uint8         \n",
      " 25  weekday_mon    730 non-null    uint8         \n",
      " 26  weekday_sat    730 non-null    uint8         \n",
      " 27  weekday_sun    730 non-null    uint8         \n",
      " 28  weekday_thur   730 non-null    uint8         \n",
      " 29  weekday_tues   730 non-null    uint8         \n",
      " 30  weekday_wed    730 non-null    uint8         \n",
      " 31  weather_Clear  730 non-null    uint8         \n",
      " 32  weather_Rainy  730 non-null    uint8         \n",
      "dtypes: datetime64[ns](1), float64(4), int64(6), uint8(22)\n",
      "memory usage: 100.3 KB\n"
     ]
    }
   ],
   "source": [
    "df.info()"
   ]
  },
  {
   "cell_type": "code",
   "execution_count": 525,
   "id": "b78ddfb8",
   "metadata": {
    "ExecuteTime": {
     "end_time": "2022-03-06T06:49:55.062648Z",
     "start_time": "2022-03-06T06:49:54.890390Z"
    }
   },
   "outputs": [
    {
     "data": {
      "text/html": [
       "<div>\n",
       "<style scoped>\n",
       "    .dataframe tbody tr th:only-of-type {\n",
       "        vertical-align: middle;\n",
       "    }\n",
       "\n",
       "    .dataframe tbody tr th {\n",
       "        vertical-align: top;\n",
       "    }\n",
       "\n",
       "    .dataframe thead th {\n",
       "        text-align: right;\n",
       "    }\n",
       "</style>\n",
       "<table border=\"1\" class=\"dataframe\">\n",
       "  <thead>\n",
       "    <tr style=\"text-align: right;\">\n",
       "      <th></th>\n",
       "      <th>year</th>\n",
       "      <th>holiday</th>\n",
       "      <th>workingday</th>\n",
       "      <th>temp</th>\n",
       "      <th>atemp</th>\n",
       "      <th>humidity</th>\n",
       "      <th>windspeed</th>\n",
       "      <th>casual</th>\n",
       "      <th>registered</th>\n",
       "      <th>count</th>\n",
       "      <th>...</th>\n",
       "      <th>month_oct</th>\n",
       "      <th>month_sep</th>\n",
       "      <th>weekday_mon</th>\n",
       "      <th>weekday_sat</th>\n",
       "      <th>weekday_sun</th>\n",
       "      <th>weekday_thur</th>\n",
       "      <th>weekday_tues</th>\n",
       "      <th>weekday_wed</th>\n",
       "      <th>weather_Clear</th>\n",
       "      <th>weather_Rainy</th>\n",
       "    </tr>\n",
       "    <tr>\n",
       "      <th>instant</th>\n",
       "      <th></th>\n",
       "      <th></th>\n",
       "      <th></th>\n",
       "      <th></th>\n",
       "      <th></th>\n",
       "      <th></th>\n",
       "      <th></th>\n",
       "      <th></th>\n",
       "      <th></th>\n",
       "      <th></th>\n",
       "      <th></th>\n",
       "      <th></th>\n",
       "      <th></th>\n",
       "      <th></th>\n",
       "      <th></th>\n",
       "      <th></th>\n",
       "      <th></th>\n",
       "      <th></th>\n",
       "      <th></th>\n",
       "      <th></th>\n",
       "      <th></th>\n",
       "    </tr>\n",
       "  </thead>\n",
       "  <tbody>\n",
       "    <tr>\n",
       "      <th>1</th>\n",
       "      <td>0</td>\n",
       "      <td>0</td>\n",
       "      <td>0</td>\n",
       "      <td>14.110847</td>\n",
       "      <td>18.18125</td>\n",
       "      <td>80.5833</td>\n",
       "      <td>10.749882</td>\n",
       "      <td>331</td>\n",
       "      <td>654</td>\n",
       "      <td>985</td>\n",
       "      <td>...</td>\n",
       "      <td>0</td>\n",
       "      <td>0</td>\n",
       "      <td>1</td>\n",
       "      <td>0</td>\n",
       "      <td>0</td>\n",
       "      <td>0</td>\n",
       "      <td>0</td>\n",
       "      <td>0</td>\n",
       "      <td>0</td>\n",
       "      <td>0</td>\n",
       "    </tr>\n",
       "    <tr>\n",
       "      <th>2</th>\n",
       "      <td>0</td>\n",
       "      <td>0</td>\n",
       "      <td>0</td>\n",
       "      <td>14.902598</td>\n",
       "      <td>17.68695</td>\n",
       "      <td>69.6087</td>\n",
       "      <td>16.652113</td>\n",
       "      <td>131</td>\n",
       "      <td>670</td>\n",
       "      <td>801</td>\n",
       "      <td>...</td>\n",
       "      <td>0</td>\n",
       "      <td>0</td>\n",
       "      <td>0</td>\n",
       "      <td>0</td>\n",
       "      <td>0</td>\n",
       "      <td>0</td>\n",
       "      <td>1</td>\n",
       "      <td>0</td>\n",
       "      <td>0</td>\n",
       "      <td>0</td>\n",
       "    </tr>\n",
       "    <tr>\n",
       "      <th>3</th>\n",
       "      <td>0</td>\n",
       "      <td>0</td>\n",
       "      <td>1</td>\n",
       "      <td>8.050924</td>\n",
       "      <td>9.47025</td>\n",
       "      <td>43.7273</td>\n",
       "      <td>16.636703</td>\n",
       "      <td>120</td>\n",
       "      <td>1229</td>\n",
       "      <td>1349</td>\n",
       "      <td>...</td>\n",
       "      <td>0</td>\n",
       "      <td>0</td>\n",
       "      <td>0</td>\n",
       "      <td>0</td>\n",
       "      <td>0</td>\n",
       "      <td>0</td>\n",
       "      <td>0</td>\n",
       "      <td>1</td>\n",
       "      <td>1</td>\n",
       "      <td>0</td>\n",
       "    </tr>\n",
       "    <tr>\n",
       "      <th>4</th>\n",
       "      <td>0</td>\n",
       "      <td>0</td>\n",
       "      <td>1</td>\n",
       "      <td>8.200000</td>\n",
       "      <td>10.60610</td>\n",
       "      <td>59.0435</td>\n",
       "      <td>10.739832</td>\n",
       "      <td>108</td>\n",
       "      <td>1454</td>\n",
       "      <td>1562</td>\n",
       "      <td>...</td>\n",
       "      <td>0</td>\n",
       "      <td>0</td>\n",
       "      <td>0</td>\n",
       "      <td>0</td>\n",
       "      <td>0</td>\n",
       "      <td>1</td>\n",
       "      <td>0</td>\n",
       "      <td>0</td>\n",
       "      <td>1</td>\n",
       "      <td>0</td>\n",
       "    </tr>\n",
       "    <tr>\n",
       "      <th>5</th>\n",
       "      <td>0</td>\n",
       "      <td>0</td>\n",
       "      <td>1</td>\n",
       "      <td>9.305237</td>\n",
       "      <td>11.46350</td>\n",
       "      <td>43.6957</td>\n",
       "      <td>12.522300</td>\n",
       "      <td>82</td>\n",
       "      <td>1518</td>\n",
       "      <td>1600</td>\n",
       "      <td>...</td>\n",
       "      <td>0</td>\n",
       "      <td>0</td>\n",
       "      <td>0</td>\n",
       "      <td>0</td>\n",
       "      <td>0</td>\n",
       "      <td>0</td>\n",
       "      <td>0</td>\n",
       "      <td>0</td>\n",
       "      <td>1</td>\n",
       "      <td>0</td>\n",
       "    </tr>\n",
       "  </tbody>\n",
       "</table>\n",
       "<p>5 rows × 32 columns</p>\n",
       "</div>"
      ],
      "text/plain": [
       "         year  holiday  workingday       temp     atemp  humidity  windspeed  \\\n",
       "instant                                                                        \n",
       "1           0        0           0  14.110847  18.18125   80.5833  10.749882   \n",
       "2           0        0           0  14.902598  17.68695   69.6087  16.652113   \n",
       "3           0        0           1   8.050924   9.47025   43.7273  16.636703   \n",
       "4           0        0           1   8.200000  10.60610   59.0435  10.739832   \n",
       "5           0        0           1   9.305237  11.46350   43.6957  12.522300   \n",
       "\n",
       "         casual  registered  count  ...  month_oct  month_sep  weekday_mon  \\\n",
       "instant                             ...                                      \n",
       "1           331         654    985  ...          0          0            1   \n",
       "2           131         670    801  ...          0          0            0   \n",
       "3           120        1229   1349  ...          0          0            0   \n",
       "4           108        1454   1562  ...          0          0            0   \n",
       "5            82        1518   1600  ...          0          0            0   \n",
       "\n",
       "         weekday_sat  weekday_sun  weekday_thur  weekday_tues  weekday_wed  \\\n",
       "instant                                                                      \n",
       "1                  0            0             0             0            0   \n",
       "2                  0            0             0             1            0   \n",
       "3                  0            0             0             0            1   \n",
       "4                  0            0             1             0            0   \n",
       "5                  0            0             0             0            0   \n",
       "\n",
       "         weather_Clear  weather_Rainy  \n",
       "instant                                \n",
       "1                    0              0  \n",
       "2                    0              0  \n",
       "3                    1              0  \n",
       "4                    1              0  \n",
       "5                    1              0  \n",
       "\n",
       "[5 rows x 32 columns]"
      ]
     },
     "execution_count": 525,
     "metadata": {},
     "output_type": "execute_result"
    }
   ],
   "source": [
    "df.drop(['dteday'], axis=1, inplace=True)\n",
    "df.head()"
   ]
  },
  {
   "cell_type": "markdown",
   "id": "bf4d2596",
   "metadata": {},
   "source": [
    "# Train & Test"
   ]
  },
  {
   "cell_type": "code",
   "execution_count": 526,
   "id": "9c457a75",
   "metadata": {
    "ExecuteTime": {
     "end_time": "2022-03-06T06:49:55.183251Z",
     "start_time": "2022-03-06T06:49:55.065647Z"
    }
   },
   "outputs": [],
   "source": [
    "y  = df['count']\n",
    "df = df.drop(['count'], axis=1)\n",
    "X  = df"
   ]
  },
  {
   "cell_type": "code",
   "execution_count": 527,
   "id": "3bae3bbb",
   "metadata": {
    "ExecuteTime": {
     "end_time": "2022-03-06T06:49:55.296772Z",
     "start_time": "2022-03-06T06:49:55.189220Z"
    }
   },
   "outputs": [],
   "source": [
    "X_train, X_test, y_train, y_test = train_test_split(X, y, test_size=0.30, random_state=100)"
   ]
  },
  {
   "cell_type": "markdown",
   "id": "efd31105",
   "metadata": {},
   "source": [
    "# Normalization"
   ]
  },
  {
   "cell_type": "code",
   "execution_count": 528,
   "id": "fc87921d",
   "metadata": {
    "ExecuteTime": {
     "end_time": "2022-03-06T06:49:55.406277Z",
     "start_time": "2022-03-06T06:49:55.296772Z"
    }
   },
   "outputs": [],
   "source": [
    "sc = MinMaxScaler()\n",
    "\n",
    "X_train[['atemp', 'humidity', 'windspeed', 'casual', 'registered']] = sc.fit_transform(X_train[['atemp', 'humidity', 'windspeed', 'casual', 'registered']])\n",
    "X_test[['atemp', 'humidity', 'windspeed', 'casual', 'registered']]  = sc.transform(X_test[['atemp', 'humidity', 'windspeed', 'casual', 'registered']])"
   ]
  },
  {
   "cell_type": "markdown",
   "id": "76bc02b6",
   "metadata": {},
   "source": [
    "# Model (GradientBoostingRegressor)"
   ]
  },
  {
   "cell_type": "code",
   "execution_count": 529,
   "id": "380002e8",
   "metadata": {
    "ExecuteTime": {
     "end_time": "2022-03-06T06:49:55.516934Z",
     "start_time": "2022-03-06T06:49:55.409265Z"
    }
   },
   "outputs": [],
   "source": [
    "model = GradientBoostingRegressor()"
   ]
  },
  {
   "cell_type": "code",
   "execution_count": 530,
   "id": "60252bed",
   "metadata": {
    "ExecuteTime": {
     "end_time": "2022-03-06T06:49:55.786633Z",
     "start_time": "2022-03-06T06:49:55.534903Z"
    }
   },
   "outputs": [
    {
     "data": {
      "text/plain": [
       "GradientBoostingRegressor()"
      ]
     },
     "execution_count": 530,
     "metadata": {},
     "output_type": "execute_result"
    }
   ],
   "source": [
    "model.fit(X_train, y_train)"
   ]
  },
  {
   "cell_type": "code",
   "execution_count": 531,
   "id": "cfeff763",
   "metadata": {
    "ExecuteTime": {
     "end_time": "2022-03-06T06:49:55.801604Z",
     "start_time": "2022-03-06T06:49:55.786633Z"
    }
   },
   "outputs": [
    {
     "data": {
      "text/plain": [
       "0.999049329839438"
      ]
     },
     "execution_count": 531,
     "metadata": {},
     "output_type": "execute_result"
    }
   ],
   "source": [
    "model.score(X_train, y_train)"
   ]
  },
  {
   "cell_type": "code",
   "execution_count": 532,
   "id": "0a70ab1a",
   "metadata": {
    "ExecuteTime": {
     "end_time": "2022-03-06T06:49:55.928888Z",
     "start_time": "2022-03-06T06:49:55.801604Z"
    }
   },
   "outputs": [
    {
     "data": {
      "text/plain": [
       "0.9954623762256934"
      ]
     },
     "execution_count": 532,
     "metadata": {},
     "output_type": "execute_result"
    }
   ],
   "source": [
    "model.score(X_test, y_test)"
   ]
  }
 ],
 "metadata": {
  "kernelspec": {
   "display_name": "Python 3",
   "language": "python",
   "name": "python3"
  },
  "language_info": {
   "codemirror_mode": {
    "name": "ipython",
    "version": 3
   },
   "file_extension": ".py",
   "mimetype": "text/x-python",
   "name": "python",
   "nbconvert_exporter": "python",
   "pygments_lexer": "ipython3",
   "version": "3.8.8"
  }
 },
 "nbformat": 4,
 "nbformat_minor": 5
}
